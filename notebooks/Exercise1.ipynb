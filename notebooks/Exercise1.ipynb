{
 "cells": [
  {
   "cell_type": "code",
   "execution_count": 1,
   "id": "0b2a314a",
   "metadata": {},
   "outputs": [],
   "source": [
    "import subprocess\n",
    "import numpy as np\n",
    "import matplotlib.pyplot as plt\n",
    "import plumed\n",
    "import os"
   ]
  },
  {
   "cell_type": "code",
   "execution_count": 2,
   "id": "0adf2683",
   "metadata": {},
   "outputs": [
    {
     "name": "stdout",
     "output_type": "stream",
     "text": [
      "CompletedProcess(args='rm -f \\\\#*; rm -fr bck.*', returncode=0)\n"
     ]
    }
   ],
   "source": [
    "# small utility to clean up backup files:\n",
    "def clean():\n",
    "    print(subprocess.run(\"rm -f \\#*; rm -fr bck.*\",shell=True))\n",
    "# small utility to run with mpiexec\n",
    "def run_mpi(cmd,nprocs=1):\n",
    "    return subprocess.run(\"\"\"\n",
    "module load intel/2021.1 gcc openmpi3 cuda\n",
    "export PLUMED_KERNEL=/scratch/bussi/masterclass-21-7/install/lib/libplumedKernel.so\n",
    "export LD_LIBRARY_PATH=/scratch/bussi/masterclass-21-7/install/lib:$LD_LIBRARY_PATH\n",
    "export PATH=/scratch/bussi/masterclass-21-7/install/bin:$PATH\n",
    "mpiexec -np {} {}\n",
    "\"\"\".format(nprocs,cmd),shell=True)\n",
    "def parse_log(path=\"md.log\"):\n",
    "    with open(path,\"r\") as f:\n",
    "        found=False\n",
    "        for l in f:\n",
    "            ll=l.split()\n",
    "            if len(ll)>1 and ll[0]==\"Core\" and ll[1]==\"t\":\n",
    "                found=True\n",
    "            if found:\n",
    "                print(l,end=\"\")\n",
    "clean()"
   ]
  },
  {
   "cell_type": "code",
   "execution_count": 3,
   "id": "eefaed54",
   "metadata": {},
   "outputs": [
    {
     "data": {
      "text/plain": [
       "CompletedProcess(args='\\nmodule load intel/2021.1 gcc openmpi3 cuda\\nexport PLUMED_KERNEL=/scratch/bussi/masterclass-21-7/install/lib/libplumedKernel.so\\nexport LD_LIBRARY_PATH=/scratch/bussi/masterclass-21-7/install/lib:$LD_LIBRARY_PATH\\nexport PATH=/scratch/bussi/masterclass-21-7/install/bin:$PATH\\nmpiexec -np 1 gmx_mpi\\n', returncode=0)"
      ]
     },
     "execution_count": 3,
     "metadata": {},
     "output_type": "execute_result"
    }
   ],
   "source": [
    "# check executables\n",
    "run_mpi(\"gmx_mpi\")"
   ]
  },
  {
   "cell_type": "code",
   "execution_count": 4,
   "id": "b158d169",
   "metadata": {},
   "outputs": [
    {
     "data": {
      "text/plain": [
       "CompletedProcess(args='\\nmodule load intel/2021.1 gcc openmpi3 cuda\\nexport PLUMED_KERNEL=/scratch/bussi/masterclass-21-7/install/lib/libplumedKernel.so\\nexport LD_LIBRARY_PATH=/scratch/bussi/masterclass-21-7/install/lib:$LD_LIBRARY_PATH\\nexport PATH=/scratch/bussi/masterclass-21-7/install/bin:$PATH\\nmpiexec -np 1 plumed\\n', returncode=0)"
      ]
     },
     "execution_count": 4,
     "metadata": {},
     "output_type": "execute_result"
    }
   ],
   "source": [
    "run_mpi(\"plumed\")"
   ]
  },
  {
   "cell_type": "markdown",
   "id": "046e5f30",
   "metadata": {},
   "source": [
    "## Exercise 1a\n",
    "\n",
    "In this first exercise, we optimize the settings for the METAD action.\n",
    "\n",
    "We first compute the basic performance using the recommended input file."
   ]
  },
  {
   "cell_type": "code",
   "execution_count": 5,
   "id": "ff989ba3",
   "metadata": {},
   "outputs": [
    {
     "data": {
      "text/plain": [
       "CompletedProcess(args='\\nmodule load intel/2021.1 gcc openmpi3 cuda\\nexport PLUMED_KERNEL=/scratch/bussi/masterclass-21-7/install/lib/libplumedKernel.so\\nexport LD_LIBRARY_PATH=/scratch/bussi/masterclass-21-7/install/lib:$LD_LIBRARY_PATH\\nexport PATH=/scratch/bussi/masterclass-21-7/install/bin:$PATH\\nmpiexec -np 1 gmx_mpi mdrun -plumed plumed-a1.dat -nsteps 5000 -ntomp 12 -pin on\\n', returncode=0)"
      ]
     },
     "execution_count": 5,
     "metadata": {},
     "output_type": "execute_result"
    }
   ],
   "source": [
    "with open(\"plumed-a1.dat\",\"w\") as f:\n",
    "    print(\"\"\"\n",
    "# vim:ft=plumed\n",
    "DEBUG DETAILED_TIMERS\n",
    "NA: GROUP ATOMS=1 \n",
    "CL: GROUP ATOMS=2 \n",
    "WAT: GROUP ATOMS=3-8544:3 \n",
    "d: DISTANCE ATOMS=NA,CL \n",
    "cn: COORDINATION GROUPA=NA GROUPB=WAT R_0=0.3 \n",
    "PRINT ARG=d,cn STRIDE=100 FILE=COLVAR \n",
    "METAD ARG=d,cn SIGMA=0.05,0.1 HEIGHT=0.1 PACE=10 BIASFACTOR=5 \n",
    "    \"\"\",file=f)\n",
    "run_mpi(\"gmx_mpi mdrun -plumed plumed-a1.dat -nsteps 5000 -ntomp 12 -pin on\",1)"
   ]
  },
  {
   "cell_type": "code",
   "execution_count": 6,
   "id": "b5d9bd24",
   "metadata": {},
   "outputs": [
    {
     "name": "stdout",
     "output_type": "stream",
     "text": [
      "               Core t (s)   Wall t (s)        (%)\n",
      "       Time:       64.013        5.335     1200.0\n",
      "                 (ns/day)    (hour/ns)\n",
      "Performance:      161.995        0.148\n",
      "Finished mdrun on rank 0 Mon May  3 00:53:21 2021\n",
      "\n",
      "PLUMED:                                               Cycles        Total      Average      Minimum      Maximum\n",
      "PLUMED:                                                    1     2.468183     2.468183     2.468183     2.468183\n",
      "PLUMED: 1 Prepare dependencies                          5001     0.009476     0.000002     0.000002     0.000017\n",
      "PLUMED: 2 Sharing data                                  5001     0.166659     0.000033     0.000031     0.001239\n",
      "PLUMED: 3 Waiting for data                              5001     0.027409     0.000005     0.000005     0.000048\n",
      "PLUMED: 4 Calculating (forward loop)                    5001     1.608278     0.000322     0.000297     0.002222\n",
      "PLUMED: 4A 0 @0                                         5001     0.006542     0.000001     0.000001     0.000022\n",
      "PLUMED: 4A 4 d                                          5001     0.058363     0.000012     0.000009     0.000347\n",
      "PLUMED: 4A 5 cn                                         5001     1.378465     0.000276     0.000256     0.002136\n",
      "PLUMED: 4A 6 @6                                           51     0.000069     0.000001     0.000001     0.000002\n",
      "PLUMED: 4A 7 @7                                         5001     0.106306     0.000021     0.000012     0.000268\n",
      "PLUMED: 5 Applying (backward loop)                      5001     0.423810     0.000085     0.000080     0.001509\n",
      "PLUMED: 5A 0 @7                                         5001     0.007582     0.000002     0.000001     0.000014\n",
      "PLUMED: 5A 1 @6                                           51     0.000040     0.000001     0.000001     0.000001\n",
      "PLUMED: 5A 2 cn                                         5001     0.249291     0.000050     0.000048     0.000262\n",
      "PLUMED: 5A 3 d                                          5001     0.020812     0.000004     0.000003     0.000021\n",
      "PLUMED: 5A 7 @0                                         5001     0.004015     0.000001     0.000001     0.000014\n",
      "PLUMED: 5B Update forces                                5001     0.092920     0.000019     0.000016     0.001410\n",
      "PLUMED: 6 Update                                        5001     0.093392     0.000019     0.000002     0.000219\n"
     ]
    }
   ],
   "source": [
    "parse_log()"
   ]
  },
  {
   "cell_type": "code",
   "execution_count": 7,
   "id": "30bf5d2f",
   "metadata": {},
   "outputs": [
    {
     "data": {
      "text/plain": [
       "[<matplotlib.lines.Line2D at 0x7fee0e19bb90>]"
      ]
     },
     "execution_count": 7,
     "metadata": {},
     "output_type": "execute_result"
    },
    {
     "data": {
      "image/png": "[encoded data removed]",
      "text/plain": [
       "<Figure size 432x288 with 1 Axes>"
      ]
     },
     "metadata": {
      "needs_background": "light"
     },
     "output_type": "display_data"
    }
   ],
   "source": [
    "col=plumed.read_as_pandas(\"COLVAR\")\n",
    "plt.plot(col.d,col.cn,\"x\")"
   ]
  },
  {
   "cell_type": "markdown",
   "id": "a9c5a512",
   "metadata": {},
   "source": [
    "We then check if the performance changes by using a grid."
   ]
  },
  {
   "cell_type": "code",
   "execution_count": 8,
   "id": "2f99a04a",
   "metadata": {},
   "outputs": [
    {
     "data": {
      "text/plain": [
       "CompletedProcess(args='\\nmodule load intel/2021.1 gcc openmpi3 cuda\\nexport PLUMED_KERNEL=/scratch/bussi/masterclass-21-7/install/lib/libplumedKernel.so\\nexport LD_LIBRARY_PATH=/scratch/bussi/masterclass-21-7/install/lib:$LD_LIBRARY_PATH\\nexport PATH=/scratch/bussi/masterclass-21-7/install/bin:$PATH\\nmpiexec -np 1 gmx_mpi mdrun -plumed plumed-a2.dat -nsteps 5000 -ntomp 12 -pin on\\n', returncode=0)"
      ]
     },
     "execution_count": 8,
     "metadata": {},
     "output_type": "execute_result"
    }
   ],
   "source": [
    "with open(\"plumed-a2.dat\",\"w\") as f:\n",
    "    print(\"\"\"\n",
    "# vim:ft=plumed\n",
    "DEBUG DETAILED_TIMERS\n",
    "NA: GROUP ATOMS=1 \n",
    "CL: GROUP ATOMS=2 \n",
    "WAT: GROUP ATOMS=3-8544:3 \n",
    "d: DISTANCE ATOMS=NA,CL \n",
    "cn: COORDINATION GROUPA=NA GROUPB=WAT R_0=0.3 \n",
    "PRINT ARG=d,cn STRIDE=100 FILE=COLVAR \n",
    "METAD ARG=d,cn SIGMA=0.05,0.1 HEIGHT=0.1 PACE=10 BIASFACTOR=5 GRID_MIN=0,4 GRID_MAX=4,8\n",
    "    \"\"\",file=f)\n",
    "run_mpi(\"gmx_mpi mdrun -plumed plumed-a2.dat -nsteps 5000 -ntomp 12 -pin on\",1)"
   ]
  },
  {
   "cell_type": "code",
   "execution_count": 9,
   "id": "3d81659e",
   "metadata": {},
   "outputs": [
    {
     "name": "stdout",
     "output_type": "stream",
     "text": [
      "               Core t (s)   Wall t (s)        (%)\n",
      "       Time:       67.082        5.590     1200.0\n",
      "                 (ns/day)    (hour/ns)\n",
      "Performance:      154.585        0.155\n",
      "Finished mdrun on rank 0 Mon May  3 00:53:31 2021\n",
      "\n",
      "PLUMED:                                               Cycles        Total      Average      Minimum      Maximum\n",
      "PLUMED:                                                    1     2.476945     2.476945     2.476945     2.476945\n",
      "PLUMED: 1 Prepare dependencies                          5001     0.009078     0.000002     0.000002     0.000013\n",
      "PLUMED: 2 Sharing data                                  5001     0.166216     0.000033     0.000030     0.000957\n",
      "PLUMED: 3 Waiting for data                              5001     0.027279     0.000005     0.000005     0.000020\n",
      "PLUMED: 4 Calculating (forward loop)                    5001     1.569972     0.000314     0.000295     0.002490\n",
      "PLUMED: 4A 0 @0                                         5001     0.006467     0.000001     0.000001     0.000013\n",
      "PLUMED: 4A 4 d                                          5001     0.056853     0.000011     0.000009     0.000056\n",
      "PLUMED: 4A 5 cn                                         5001     1.377478     0.000275     0.000258     0.002420\n",
      "PLUMED: 4A 6 @6                                           51     0.000077     0.000002     0.000001     0.000002\n",
      "PLUMED: 4A 7 @7                                         5001     0.070415     0.000014     0.000012     0.000209\n",
      "PLUMED: 5 Applying (backward loop)                      5001     0.417419     0.000083     0.000079     0.001943\n",
      "PLUMED: 5A 0 @7                                         5001     0.007816     0.000002     0.000001     0.000015\n",
      "PLUMED: 5A 1 @6                                           51     0.000037     0.000001     0.000001     0.000001\n",
      "PLUMED: 5A 2 cn                                         5001     0.249334     0.000050     0.000048     0.000135\n",
      "PLUMED: 5A 3 d                                          5001     0.019749     0.000004     0.000003     0.000020\n",
      "PLUMED: 5A 7 @0                                         5001     0.004179     0.000001     0.000001     0.000013\n",
      "PLUMED: 5B Update forces                                5001     0.088224     0.000018     0.000015     0.001848\n",
      "PLUMED: 6 Update                                        5001     0.152489     0.000030     0.000004     0.000372\n"
     ]
    }
   ],
   "source": [
    "parse_log()"
   ]
  },
  {
   "cell_type": "markdown",
   "id": "499aa17f",
   "metadata": {},
   "source": [
    "The change is limited, and there's actually a small slowdown... Anyway, we know that on the long run (when we will have many hills) using a grid will be critical for performance. So, we keep on with the grid.\n",
    "\n",
    "We then test what happens when using a larger PACE (with larger height). Notice that, in the long run, hills height typically become so small (due to BIASFACTOR) that the height of the individual hill will be a tiny fraction of kBT. In this regime, there's no effect in changing PACE, provided that height is changed by the same factor."
   ]
  },
  {
   "cell_type": "code",
   "execution_count": 10,
   "id": "d1559ad4",
   "metadata": {},
   "outputs": [
    {
     "data": {
      "text/plain": [
       "CompletedProcess(args='\\nmodule load intel/2021.1 gcc openmpi3 cuda\\nexport PLUMED_KERNEL=/scratch/bussi/masterclass-21-7/install/lib/libplumedKernel.so\\nexport LD_LIBRARY_PATH=/scratch/bussi/masterclass-21-7/install/lib:$LD_LIBRARY_PATH\\nexport PATH=/scratch/bussi/masterclass-21-7/install/bin:$PATH\\nmpiexec -np 1 gmx_mpi mdrun -plumed plumed-a3.dat -nsteps 5000 -ntomp 12 -pin on\\n', returncode=0)"
      ]
     },
     "execution_count": 10,
     "metadata": {},
     "output_type": "execute_result"
    }
   ],
   "source": [
    "with open(\"plumed-a3.dat\",\"w\") as f:\n",
    "    print(\"\"\"\n",
    "# vim:ft=plumed\n",
    "DEBUG DETAILED_TIMERS\n",
    "NA: GROUP ATOMS=1 \n",
    "CL: GROUP ATOMS=2 \n",
    "WAT: GROUP ATOMS=3-8544:3 \n",
    "d: DISTANCE ATOMS=NA,CL \n",
    "cn: COORDINATION GROUPA=NA GROUPB=WAT R_0=0.3 \n",
    "PRINT ARG=d,cn STRIDE=100 FILE=COLVAR \n",
    "METAD ARG=d,cn SIGMA=0.05,0.1 HEIGHT=1.0 PACE=100 BIASFACTOR=5 GRID_MIN=0,4 GRID_MAX=4,8\n",
    "    \"\"\",file=f)\n",
    "run_mpi(\"gmx_mpi mdrun -plumed plumed-a3.dat -nsteps 5000 -ntomp 12 -pin on\",1)"
   ]
  },
  {
   "cell_type": "code",
   "execution_count": 11,
   "id": "8a09803a",
   "metadata": {},
   "outputs": [
    {
     "name": "stdout",
     "output_type": "stream",
     "text": [
      "               Core t (s)   Wall t (s)        (%)\n",
      "       Time:       64.732        5.394     1200.0\n",
      "                 (ns/day)    (hour/ns)\n",
      "Performance:      160.196        0.150\n",
      "Finished mdrun on rank 0 Mon May  3 00:53:38 2021\n",
      "\n",
      "PLUMED:                                               Cycles        Total      Average      Minimum      Maximum\n",
      "PLUMED:                                                    1     2.350937     2.350937     2.350937     2.350937\n",
      "PLUMED: 1 Prepare dependencies                          5001     0.009594     0.000002     0.000002     0.000015\n",
      "PLUMED: 2 Sharing data                                  5001     0.165980     0.000033     0.000030     0.000980\n",
      "PLUMED: 3 Waiting for data                              5001     0.027268     0.000005     0.000005     0.000020\n",
      "PLUMED: 4 Calculating (forward loop)                    5001     1.562554     0.000312     0.000295     0.000847\n",
      "PLUMED: 4A 0 @0                                         5001     0.006505     0.000001     0.000001     0.000013\n",
      "PLUMED: 4A 4 d                                          5001     0.058210     0.000012     0.000010     0.000034\n",
      "PLUMED: 4A 5 cn                                         5001     1.368993     0.000274     0.000256     0.000562\n",
      "PLUMED: 4A 6 @6                                           51     0.000075     0.000001     0.000001     0.000002\n",
      "PLUMED: 4A 7 @7                                         5001     0.071918     0.000014     0.000012     0.000557\n",
      "PLUMED: 5 Applying (backward loop)                      5001     0.411762     0.000082     0.000079     0.000156\n",
      "PLUMED: 5A 0 @7                                         5001     0.007581     0.000002     0.000001     0.000014\n",
      "PLUMED: 5A 1 @6                                           51     0.000037     0.000001     0.000001     0.000001\n",
      "PLUMED: 5A 2 cn                                         5001     0.248154     0.000050     0.000048     0.000120\n",
      "PLUMED: 5A 3 d                                          5001     0.020158     0.000004     0.000003     0.000051\n",
      "PLUMED: 5A 7 @0                                         5001     0.004162     0.000001     0.000001     0.000013\n",
      "PLUMED: 5B Update forces                                5001     0.085660     0.000017     0.000015     0.000083\n",
      "PLUMED: 6 Update                                        5001     0.039572     0.000008     0.000005     0.000377\n"
     ]
    }
   ],
   "source": [
    "parse_log()"
   ]
  },
  {
   "cell_type": "markdown",
   "id": "0d138626",
   "metadata": {},
   "source": [
    "Little impact. We keep on with these settings, even though for this system we didn't gain much."
   ]
  },
  {
   "cell_type": "markdown",
   "id": "185fc683",
   "metadata": {},
   "source": [
    "## Exercise 1b\n",
    "\n",
    "Next we proceed in optimizing the calculation of COORDINATION. In order to safely use neighbor lists, we have to make sure that the switching function goes exactly to zero. This can be done by setting D_MAX.\n",
    "\n",
    "We then test different values of D_MAX, checking if they lead to different values for the COORDINATION variable."
   ]
  },
  {
   "cell_type": "code",
   "execution_count": 12,
   "id": "6d1c5658",
   "metadata": {},
   "outputs": [
    {
     "data": {
      "text/plain": [
       "CompletedProcess(args='\\nmodule load intel/2021.1 gcc openmpi3 cuda\\nexport PLUMED_KERNEL=/scratch/bussi/masterclass-21-7/install/lib/libplumedKernel.so\\nexport LD_LIBRARY_PATH=/scratch/bussi/masterclass-21-7/install/lib:$LD_LIBRARY_PATH\\nexport PATH=/scratch/bussi/masterclass-21-7/install/bin:$PATH\\nmpiexec -np 1 gmx_mpi mdrun -plumed plumed-b1.dat -nsteps 5000 -ntomp 12 -pin on\\n', returncode=0)"
      ]
     },
     "execution_count": 12,
     "metadata": {},
     "output_type": "execute_result"
    }
   ],
   "source": [
    "with open(\"plumed-b1.dat\",\"w\") as f:\n",
    "    print(\"\"\"\n",
    "# vim:ft=plumed\n",
    "DEBUG DETAILED_TIMERS\n",
    "NA: GROUP ATOMS=1 \n",
    "CL: GROUP ATOMS=2 \n",
    "WAT: GROUP ATOMS=3-8544:3 \n",
    "d: DISTANCE ATOMS=NA,CL \n",
    "cn: COORDINATION GROUPA=NA GROUPB=WAT R_0=0.3 \n",
    "cn1: COORDINATION GROUPA=NA GROUPB=WAT SWITCH={RATIONAL R_0=0.3 D_MAX=0.75}\n",
    "cn2: COORDINATION GROUPA=NA GROUPB=WAT SWITCH={RATIONAL R_0=0.3 D_MAX=1.0}\n",
    "cn3: COORDINATION GROUPA=NA GROUPB=WAT SWITCH={RATIONAL R_0=0.3 D_MAX=1.25}\n",
    "cn4: COORDINATION GROUPA=NA GROUPB=WAT SWITCH={RATIONAL R_0=0.3 D_MAX=1.5}\n",
    "PRINT ARG=d,cn STRIDE=100 FILE=COLVAR\n",
    "METAD ARG=d,cn SIGMA=0.05,0.1 HEIGHT=1.0 PACE=100 BIASFACTOR=5 GRID_MIN=0,4 GRID_MAX=4,8\n",
    "PRINT ARG=cn,cn1,cn2,cn3,cn4 FILE=TEST\n",
    "    \"\"\",file=f)\n",
    "run_mpi(\"gmx_mpi mdrun -plumed plumed-b1.dat -nsteps 5000 -ntomp 12 -pin on\",1)"
   ]
  },
  {
   "cell_type": "code",
   "execution_count": 13,
   "id": "7c73aa59",
   "metadata": {},
   "outputs": [
    {
     "name": "stdout",
     "output_type": "stream",
     "text": [
      "               Core t (s)   Wall t (s)        (%)\n",
      "       Time:      146.201       12.184     1200.0\n",
      "                 (ns/day)    (hour/ns)\n",
      "Performance:       70.929        0.338\n",
      "Finished mdrun on rank 0 Mon May  3 00:53:53 2021\n",
      "\n",
      "PLUMED:                                               Cycles        Total      Average      Minimum      Maximum\n",
      "PLUMED:                                                    1     8.863930     8.863930     8.863930     8.863930\n",
      "PLUMED: 1 Prepare dependencies                          5001     0.013864     0.000003     0.000002     0.000015\n",
      "PLUMED: 2 Sharing data                                  5001     0.166604     0.000033     0.000031     0.000975\n",
      "PLUMED: 3 Waiting for data                              5001     0.028370     0.000006     0.000005     0.000054\n",
      "PLUMED: 4 Calculating (forward loop)                    5001     6.702861     0.001340     0.001286     0.003814\n",
      "PLUMED: 4A  0 @0                                        5001     0.006441     0.000001     0.000001     0.000013\n",
      "PLUMED: 4A  4 d                                         5001     0.057378     0.000011     0.000009     0.000063\n",
      "PLUMED: 4A  5 cn                                        5001     1.385654     0.000277     0.000259     0.002128\n",
      "PLUMED: 4A  6 cn1                                       5001     1.264167     0.000253     0.000233     0.001664\n",
      "PLUMED: 4A  7 cn2                                       5001     1.250743     0.000250     0.000233     0.000453\n",
      "PLUMED: 4A  8 cn3                                       5001     1.260113     0.000252     0.000232     0.002306\n",
      "PLUMED: 4A  9 cn4                                       5001     1.258367     0.000252     0.000233     0.000409\n",
      "PLUMED: 4A 10 @10                                         51     0.000075     0.000001     0.000001     0.000002\n",
      "PLUMED: 4A 11 @11                                       5001     0.076217     0.000015     0.000013     0.000445\n",
      "PLUMED: 4A 12 @12                                       5001     0.006716     0.000001     0.000001     0.000012\n",
      "PLUMED: 5 Applying (backward loop)                      5001     1.197036     0.000239     0.000231     0.002248\n",
      "PLUMED: 5A  0 @12                                       5001     0.004496     0.000001     0.000001     0.000012\n",
      "PLUMED: 5A  1 @11                                       5001     0.007603     0.000002     0.000001     0.000043\n",
      "PLUMED: 5A  2 @10                                         51     0.000036     0.000001     0.000001     0.000001\n",
      "PLUMED: 5A  3 cn4                                       5001     0.190011     0.000038     0.000036     0.000193\n",
      "PLUMED: 5A  4 cn3                                       5001     0.181472     0.000036     0.000035     0.000082\n",
      "PLUMED: 5A  5 cn2                                       5001     0.179014     0.000036     0.000034     0.000384\n",
      "PLUMED: 5A  6 cn1                                       5001     0.178436     0.000036     0.000034     0.000095\n",
      "PLUMED: 5A  7 cn                                        5001     0.244496     0.000049     0.000047     0.001939\n",
      "PLUMED: 5A  8 d                                         5001     0.018179     0.000004     0.000003     0.000294\n",
      "PLUMED: 5A 12 @0                                        5001     0.004079     0.000001     0.000001     0.000023\n",
      "PLUMED: 5B Update forces                                5001     0.089267     0.000018     0.000016     0.000098\n",
      "PLUMED: 6 Update                                        5001     0.612557     0.000122     0.000016     0.513900\n"
     ]
    }
   ],
   "source": [
    "parse_log()"
   ]
  },
  {
   "cell_type": "code",
   "execution_count": 14,
   "id": "d01c74d7",
   "metadata": {},
   "outputs": [
    {
     "data": {
      "text/html": [
       "<div>\n",
       "<style scoped>\n",
       "    .dataframe tbody tr th:only-of-type {\n",
       "        vertical-align: middle;\n",
       "    }\n",
       "\n",
       "    .dataframe tbody tr th {\n",
       "        vertical-align: top;\n",
       "    }\n",
       "\n",
       "    .dataframe thead th {\n",
       "        text-align: right;\n",
       "    }\n",
       "</style>\n",
       "<table border=\"1\" class=\"dataframe\">\n",
       "  <thead>\n",
       "    <tr style=\"text-align: right;\">\n",
       "      <th></th>\n",
       "      <th>time</th>\n",
       "      <th>cn</th>\n",
       "      <th>cn1</th>\n",
       "      <th>cn2</th>\n",
       "      <th>cn3</th>\n",
       "      <th>cn4</th>\n",
       "    </tr>\n",
       "  </thead>\n",
       "  <tbody>\n",
       "    <tr>\n",
       "      <th>0</th>\n",
       "      <td>0.000</td>\n",
       "      <td>4.695658</td>\n",
       "      <td>4.272987</td>\n",
       "      <td>4.526589</td>\n",
       "      <td>4.618690</td>\n",
       "      <td>4.660486</td>\n",
       "    </tr>\n",
       "    <tr>\n",
       "      <th>1</th>\n",
       "      <td>0.002</td>\n",
       "      <td>4.706754</td>\n",
       "      <td>4.284079</td>\n",
       "      <td>4.537718</td>\n",
       "      <td>4.629786</td>\n",
       "      <td>4.671583</td>\n",
       "    </tr>\n",
       "    <tr>\n",
       "      <th>2</th>\n",
       "      <td>0.004</td>\n",
       "      <td>4.722637</td>\n",
       "      <td>4.299946</td>\n",
       "      <td>4.553633</td>\n",
       "      <td>4.645667</td>\n",
       "      <td>4.687466</td>\n",
       "    </tr>\n",
       "    <tr>\n",
       "      <th>3</th>\n",
       "      <td>0.006</td>\n",
       "      <td>4.743018</td>\n",
       "      <td>4.320321</td>\n",
       "      <td>4.574051</td>\n",
       "      <td>4.666047</td>\n",
       "      <td>4.707848</td>\n",
       "    </tr>\n",
       "    <tr>\n",
       "      <th>4</th>\n",
       "      <td>0.008</td>\n",
       "      <td>4.767429</td>\n",
       "      <td>4.344739</td>\n",
       "      <td>4.598499</td>\n",
       "      <td>4.690459</td>\n",
       "      <td>4.732261</td>\n",
       "    </tr>\n",
       "    <tr>\n",
       "      <th>...</th>\n",
       "      <td>...</td>\n",
       "      <td>...</td>\n",
       "      <td>...</td>\n",
       "      <td>...</td>\n",
       "      <td>...</td>\n",
       "      <td>...</td>\n",
       "    </tr>\n",
       "    <tr>\n",
       "      <th>4996</th>\n",
       "      <td>9.992</td>\n",
       "      <td>6.538183</td>\n",
       "      <td>6.107185</td>\n",
       "      <td>6.364282</td>\n",
       "      <td>6.459519</td>\n",
       "      <td>6.502349</td>\n",
       "    </tr>\n",
       "    <tr>\n",
       "      <th>4997</th>\n",
       "      <td>9.994</td>\n",
       "      <td>6.544672</td>\n",
       "      <td>6.113734</td>\n",
       "      <td>6.370780</td>\n",
       "      <td>6.466016</td>\n",
       "      <td>6.508841</td>\n",
       "    </tr>\n",
       "    <tr>\n",
       "      <th>4998</th>\n",
       "      <td>9.996</td>\n",
       "      <td>6.551699</td>\n",
       "      <td>6.120827</td>\n",
       "      <td>6.377814</td>\n",
       "      <td>6.473052</td>\n",
       "      <td>6.515872</td>\n",
       "    </tr>\n",
       "    <tr>\n",
       "      <th>4999</th>\n",
       "      <td>9.998</td>\n",
       "      <td>6.558974</td>\n",
       "      <td>6.128171</td>\n",
       "      <td>6.385095</td>\n",
       "      <td>6.480335</td>\n",
       "      <td>6.523150</td>\n",
       "    </tr>\n",
       "    <tr>\n",
       "      <th>5000</th>\n",
       "      <td>10.000</td>\n",
       "      <td>6.566270</td>\n",
       "      <td>6.135538</td>\n",
       "      <td>6.392397</td>\n",
       "      <td>6.487639</td>\n",
       "      <td>6.530450</td>\n",
       "    </tr>\n",
       "  </tbody>\n",
       "</table>\n",
       "<p>5001 rows × 6 columns</p>\n",
       "</div>"
      ],
      "text/plain": [
       "        time        cn       cn1       cn2       cn3       cn4\n",
       "0      0.000  4.695658  4.272987  4.526589  4.618690  4.660486\n",
       "1      0.002  4.706754  4.284079  4.537718  4.629786  4.671583\n",
       "2      0.004  4.722637  4.299946  4.553633  4.645667  4.687466\n",
       "3      0.006  4.743018  4.320321  4.574051  4.666047  4.707848\n",
       "4      0.008  4.767429  4.344739  4.598499  4.690459  4.732261\n",
       "...      ...       ...       ...       ...       ...       ...\n",
       "4996   9.992  6.538183  6.107185  6.364282  6.459519  6.502349\n",
       "4997   9.994  6.544672  6.113734  6.370780  6.466016  6.508841\n",
       "4998   9.996  6.551699  6.120827  6.377814  6.473052  6.515872\n",
       "4999   9.998  6.558974  6.128171  6.385095  6.480335  6.523150\n",
       "5000  10.000  6.566270  6.135538  6.392397  6.487639  6.530450\n",
       "\n",
       "[5001 rows x 6 columns]"
      ]
     },
     "execution_count": 14,
     "metadata": {},
     "output_type": "execute_result"
    }
   ],
   "source": [
    "test=plumed.read_as_pandas(\"TEST\")\n",
    "test"
   ]
  },
  {
   "cell_type": "code",
   "execution_count": 15,
   "id": "1ec0f995",
   "metadata": {},
   "outputs": [
    {
     "data": {
      "text/plain": [
       "[<matplotlib.lines.Line2D at 0x7fee0dfd6350>]"
      ]
     },
     "execution_count": 15,
     "metadata": {},
     "output_type": "execute_result"
    },
    {
     "data": {
      "image/png": "[encoded data removed]",
      "text/plain": [
       "<Figure size 432x288 with 1 Axes>"
      ]
     },
     "metadata": {
      "needs_background": "light"
     },
     "output_type": "display_data"
    }
   ],
   "source": [
    "plt.plot(test.cn,test.cn1,\"x\")\n",
    "plt.plot(test.cn,test.cn2,\"x\")\n",
    "plt.plot(test.cn,test.cn3,\"x\")\n",
    "plt.plot(test.cn,test.cn4,\"x\")"
   ]
  },
  {
   "cell_type": "markdown",
   "id": "51af0fee",
   "metadata": {},
   "source": [
    "The obtained values are equivalent, though they are related by a uniform shift. It's then certainly fine to use the smallest value (0.75).\n",
    "\n",
    "We now test neighbor lists. To do so, we try different buffer width and different strides. Notice that a larger buffer (NL_CUTOFF - D_MAX) allows to use a larger stride. However, increasing too much the stride is not useful."
   ]
  },
  {
   "cell_type": "code",
   "execution_count": 16,
   "id": "6f0dd387",
   "metadata": {},
   "outputs": [
    {
     "data": {
      "text/plain": [
       "CompletedProcess(args='\\nmodule load intel/2021.1 gcc openmpi3 cuda\\nexport PLUMED_KERNEL=/scratch/bussi/masterclass-21-7/install/lib/libplumedKernel.so\\nexport LD_LIBRARY_PATH=/scratch/bussi/masterclass-21-7/install/lib:$LD_LIBRARY_PATH\\nexport PATH=/scratch/bussi/masterclass-21-7/install/bin:$PATH\\nmpiexec -np 1 gmx_mpi mdrun -plumed plumed-b2.dat -nsteps 5000 -ntomp 12 -pin on\\n', returncode=0)"
      ]
     },
     "execution_count": 16,
     "metadata": {},
     "output_type": "execute_result"
    }
   ],
   "source": [
    "with open(\"plumed-b2.dat\",\"w\") as f:\n",
    "    print(\"\"\"\n",
    "# vim:ft=plumed\n",
    "DEBUG DETAILED_TIMERS\n",
    "NA: GROUP ATOMS=1 \n",
    "CL: GROUP ATOMS=2 \n",
    "WAT: GROUP ATOMS=3-8544:3 \n",
    "d: DISTANCE ATOMS=NA,CL \n",
    "cn:  COORDINATION GROUPA=NA GROUPB=WAT SWITCH={RATIONAL R_0=0.3 D_MAX=0.75} \n",
    "cn1: COORDINATION GROUPA=NA GROUPB=WAT SWITCH={RATIONAL R_0=0.3 D_MAX=0.75} NLIST NL_CUTOFF=0.8 NL_STRIDE=5\n",
    "cn2: COORDINATION GROUPA=NA GROUPB=WAT SWITCH={RATIONAL R_0=0.3 D_MAX=0.75} NLIST NL_CUTOFF=0.8 NL_STRIDE=10\n",
    "cn3: COORDINATION GROUPA=NA GROUPB=WAT SWITCH={RATIONAL R_0=0.3 D_MAX=0.75} NLIST NL_CUTOFF=0.8 NL_STRIDE=20\n",
    "cn4: COORDINATION GROUPA=NA GROUPB=WAT SWITCH={RATIONAL R_0=0.3 D_MAX=0.75} NLIST NL_CUTOFF=0.8 NL_STRIDE=50\n",
    "cn5: COORDINATION GROUPA=NA GROUPB=WAT SWITCH={RATIONAL R_0=0.3 D_MAX=0.75} NLIST NL_CUTOFF=0.8 NL_STRIDE=100\n",
    "cn6: COORDINATION GROUPA=NA GROUPB=WAT SWITCH={RATIONAL R_0=0.3 D_MAX=0.75} NLIST NL_CUTOFF=0.8 NL_STRIDE=200\n",
    "cn7: COORDINATION GROUPA=NA GROUPB=WAT SWITCH={RATIONAL R_0=0.3 D_MAX=0.75} NLIST NL_CUTOFF=1.0 NL_STRIDE=5\n",
    "cn8: COORDINATION GROUPA=NA GROUPB=WAT SWITCH={RATIONAL R_0=0.3 D_MAX=0.75} NLIST NL_CUTOFF=1.0 NL_STRIDE=10\n",
    "cn9: COORDINATION GROUPA=NA GROUPB=WAT SWITCH={RATIONAL R_0=0.3 D_MAX=0.75} NLIST NL_CUTOFF=1.0 NL_STRIDE=20\n",
    "cn10: COORDINATION GROUPA=NA GROUPB=WAT SWITCH={RATIONAL R_0=0.3 D_MAX=0.75} NLIST NL_CUTOFF=1.0 NL_STRIDE=50\n",
    "cn11: COORDINATION GROUPA=NA GROUPB=WAT SWITCH={RATIONAL R_0=0.3 D_MAX=0.75} NLIST NL_CUTOFF=1.0 NL_STRIDE=100\n",
    "cn12: COORDINATION GROUPA=NA GROUPB=WAT SWITCH={RATIONAL R_0=0.3 D_MAX=0.75} NLIST NL_CUTOFF=1.0 NL_STRIDE=200\n",
    "\n",
    "PRINT ARG=d,cn STRIDE=100 FILE=COLVAR\n",
    "METAD ARG=d,cn SIGMA=0.05,0.1 HEIGHT=1.0 PACE=100 BIASFACTOR=5 GRID_MIN=0,4 GRID_MAX=4,8\n",
    "PRINT ARG=(cn.*) FILE=TEST\n",
    "    \"\"\",file=f)\n",
    "run_mpi(\"gmx_mpi mdrun -plumed plumed-b2.dat -nsteps 5000 -ntomp 12 -pin on\",1)"
   ]
  },
  {
   "cell_type": "code",
   "execution_count": 17,
   "id": "d3a5d16f",
   "metadata": {},
   "outputs": [
    {
     "name": "stdout",
     "output_type": "stream",
     "text": [
      "               Core t (s)   Wall t (s)        (%)\n",
      "       Time:      145.498       12.125     1200.0\n",
      "                 (ns/day)    (hour/ns)\n",
      "Performance:       71.272        0.337\n",
      "Finished mdrun on rank 0 Mon May  3 00:54:07 2021\n",
      "\n",
      "PLUMED:                                               Cycles        Total      Average      Minimum      Maximum\n",
      "PLUMED:                                                    1     9.287076     9.287076     9.287076     9.287076\n",
      "PLUMED: 1 Prepare dependencies                          5001     3.521572     0.000704     0.000207     0.006928\n",
      "PLUMED: 2 Sharing data                                  5001     0.178700     0.000036     0.000032     0.002355\n",
      "PLUMED: 3 Waiting for data                              5001     0.034216     0.000007     0.000006     0.000070\n",
      "PLUMED: 4 Calculating (forward loop)                    5001     4.402553     0.000880     0.000671     0.003378\n",
      "PLUMED: 4A  0 @0                                        5001     0.006737     0.000001     0.000001     0.000027\n",
      "PLUMED: 4A  4 d                                         5001     0.060494     0.000012     0.000010     0.000054\n",
      "PLUMED: 4A  5 cn                                        5001     1.568620     0.000314     0.000256     0.001110\n",
      "PLUMED: 4A  6 cn1                                       5001     0.228807     0.000046     0.000022     0.000241\n",
      "PLUMED: 4A  7 cn2                                       5001     0.156937     0.000031     0.000018     0.000210\n",
      "PLUMED: 4A  8 cn3                                       5001     0.125654     0.000025     0.000017     0.000174\n",
      "PLUMED: 4A  9 cn4                                       5001     0.109953     0.000022     0.000018     0.000166\n",
      "PLUMED: 4A 10 cn5                                       5001     0.104776     0.000021     0.000018     0.000161\n",
      "PLUMED: 4A 11 cn6                                       5001     0.101276     0.000020     0.000018     0.000539\n",
      "PLUMED: 4A 12 cn7                                       5001     0.439231     0.000088     0.000036     0.000379\n",
      "PLUMED: 4A 13 cn8                                       5001     0.319345     0.000064     0.000034     0.002375\n",
      "PLUMED: 4A 14 cn9                                       5001     0.258027     0.000052     0.000034     0.000319\n",
      "PLUMED: 4A 15 cn10                                      5001     0.224309     0.000045     0.000034     0.000295\n",
      "PLUMED: 4A 16 cn11                                      5001     0.212188     0.000042     0.000035     0.000314\n",
      "PLUMED: 4A 17 cn12                                      5001     0.205226     0.000041     0.000034     0.000315\n",
      "PLUMED: 4A 18 @18                                         51     0.000070     0.000001     0.000001     0.000002\n",
      "PLUMED: 4A 19 @19                                       5001     0.067887     0.000014     0.000012     0.000058\n",
      "PLUMED: 4A 20 @20                                       5001     0.005939     0.000001     0.000001     0.000013\n",
      "PLUMED: 5 Applying (backward loop)                      5001     0.849911     0.000170     0.000137     0.000583\n",
      "PLUMED: 5A  0 @20                                       5001     0.004174     0.000001     0.000001     0.000012\n",
      "PLUMED: 5A  1 @19                                       5001     0.007996     0.000002     0.000001     0.000013\n",
      "PLUMED: 5A  2 @18                                         51     0.000039     0.000001     0.000001     0.000001\n",
      "PLUMED: 5A  3 cn12                                      5001     0.037440     0.000007     0.000006     0.000072\n",
      "PLUMED: 5A  4 cn11                                      5001     0.021786     0.000004     0.000004     0.000050\n",
      "PLUMED: 5A  5 cn10                                      5001     0.022153     0.000004     0.000003     0.000051\n",
      "PLUMED: 5A  6 cn9                                       5001     0.026542     0.000005     0.000003     0.000051\n",
      "PLUMED: 5A  7 cn8                                       5001     0.033977     0.000007     0.000003     0.000053\n",
      "PLUMED: 5A  8 cn7                                       5001     0.049844     0.000010     0.000003     0.000055\n",
      "PLUMED: 5A  9 cn6                                       5001     0.018271     0.000004     0.000003     0.000051\n",
      "PLUMED: 5A 10 cn5                                       5001     0.016727     0.000003     0.000003     0.000051\n",
      "PLUMED: 5A 11 cn4                                       5001     0.017866     0.000004     0.000003     0.000051\n",
      "PLUMED: 5A 12 cn3                                       5001     0.022489     0.000004     0.000003     0.000052\n",
      "PLUMED: 5A 13 cn2                                       5001     0.030336     0.000006     0.000003     0.000298\n",
      "PLUMED: 5A 14 cn1                                       5001     0.046315     0.000009     0.000003     0.000054\n",
      "PLUMED: 5A 15 cn                                        5001     0.237199     0.000047     0.000045     0.000328\n",
      "PLUMED: 5A 16 d                                         5001     0.018280     0.000004     0.000003     0.000017\n",
      "PLUMED: 5A 20 @0                                        5001     0.004107     0.000001     0.000001     0.000011\n",
      "PLUMED: 5B Update forces                                5001     0.087521     0.000018     0.000016     0.000336\n",
      "PLUMED: 6 Update                                        5001     0.139654     0.000028     0.000023     0.000439\n"
     ]
    }
   ],
   "source": [
    "parse_log()"
   ]
  },
  {
   "cell_type": "markdown",
   "id": "bf7f6cf8",
   "metadata": {},
   "source": [
    "We also compare the values"
   ]
  },
  {
   "cell_type": "code",
   "execution_count": 48,
   "id": "a9ad570d",
   "metadata": {},
   "outputs": [
    {
     "data": {
      "text/html": [
       "<div>\n",
       "<style scoped>\n",
       "    .dataframe tbody tr th:only-of-type {\n",
       "        vertical-align: middle;\n",
       "    }\n",
       "\n",
       "    .dataframe tbody tr th {\n",
       "        vertical-align: top;\n",
       "    }\n",
       "\n",
       "    .dataframe thead th {\n",
       "        text-align: right;\n",
       "    }\n",
       "</style>\n",
       "<table border=\"1\" class=\"dataframe\">\n",
       "  <thead>\n",
       "    <tr style=\"text-align: right;\">\n",
       "      <th></th>\n",
       "      <th>time</th>\n",
       "      <th>cn</th>\n",
       "      <th>cn1</th>\n",
       "      <th>cn2</th>\n",
       "      <th>cn3</th>\n",
       "      <th>cn4</th>\n",
       "      <th>cn5</th>\n",
       "      <th>cn6</th>\n",
       "      <th>cn7</th>\n",
       "      <th>cn8</th>\n",
       "      <th>cn9</th>\n",
       "      <th>cn10</th>\n",
       "      <th>cn11</th>\n",
       "      <th>cn12</th>\n",
       "    </tr>\n",
       "  </thead>\n",
       "  <tbody>\n",
       "    <tr>\n",
       "      <th>0</th>\n",
       "      <td>0.000</td>\n",
       "      <td>4.272987</td>\n",
       "      <td>4.272987</td>\n",
       "      <td>4.272987</td>\n",
       "      <td>4.272987</td>\n",
       "      <td>4.272987</td>\n",
       "      <td>4.272987</td>\n",
       "      <td>4.272987</td>\n",
       "      <td>4.272987</td>\n",
       "      <td>4.272987</td>\n",
       "      <td>4.272987</td>\n",
       "      <td>4.272987</td>\n",
       "      <td>4.272987</td>\n",
       "      <td>4.272987</td>\n",
       "    </tr>\n",
       "    <tr>\n",
       "      <th>1</th>\n",
       "      <td>0.002</td>\n",
       "      <td>4.284079</td>\n",
       "      <td>4.284079</td>\n",
       "      <td>4.284079</td>\n",
       "      <td>4.284079</td>\n",
       "      <td>4.284079</td>\n",
       "      <td>4.284079</td>\n",
       "      <td>4.284079</td>\n",
       "      <td>4.284079</td>\n",
       "      <td>4.284079</td>\n",
       "      <td>4.284079</td>\n",
       "      <td>4.284079</td>\n",
       "      <td>4.284079</td>\n",
       "      <td>4.284079</td>\n",
       "    </tr>\n",
       "    <tr>\n",
       "      <th>2</th>\n",
       "      <td>0.004</td>\n",
       "      <td>4.299946</td>\n",
       "      <td>4.299946</td>\n",
       "      <td>4.299946</td>\n",
       "      <td>4.299946</td>\n",
       "      <td>4.299946</td>\n",
       "      <td>4.299946</td>\n",
       "      <td>4.299946</td>\n",
       "      <td>4.299946</td>\n",
       "      <td>4.299946</td>\n",
       "      <td>4.299946</td>\n",
       "      <td>4.299946</td>\n",
       "      <td>4.299946</td>\n",
       "      <td>4.299946</td>\n",
       "    </tr>\n",
       "    <tr>\n",
       "      <th>3</th>\n",
       "      <td>0.006</td>\n",
       "      <td>4.320321</td>\n",
       "      <td>4.320321</td>\n",
       "      <td>4.320321</td>\n",
       "      <td>4.320321</td>\n",
       "      <td>4.320321</td>\n",
       "      <td>4.320321</td>\n",
       "      <td>4.320321</td>\n",
       "      <td>4.320321</td>\n",
       "      <td>4.320321</td>\n",
       "      <td>4.320321</td>\n",
       "      <td>4.320321</td>\n",
       "      <td>4.320321</td>\n",
       "      <td>4.320321</td>\n",
       "    </tr>\n",
       "    <tr>\n",
       "      <th>4</th>\n",
       "      <td>0.008</td>\n",
       "      <td>4.344739</td>\n",
       "      <td>4.344739</td>\n",
       "      <td>4.344739</td>\n",
       "      <td>4.344739</td>\n",
       "      <td>4.344739</td>\n",
       "      <td>4.344739</td>\n",
       "      <td>4.344739</td>\n",
       "      <td>4.344739</td>\n",
       "      <td>4.344739</td>\n",
       "      <td>4.344739</td>\n",
       "      <td>4.344739</td>\n",
       "      <td>4.344739</td>\n",
       "      <td>4.344739</td>\n",
       "    </tr>\n",
       "    <tr>\n",
       "      <th>...</th>\n",
       "      <td>...</td>\n",
       "      <td>...</td>\n",
       "      <td>...</td>\n",
       "      <td>...</td>\n",
       "      <td>...</td>\n",
       "      <td>...</td>\n",
       "      <td>...</td>\n",
       "      <td>...</td>\n",
       "      <td>...</td>\n",
       "      <td>...</td>\n",
       "      <td>...</td>\n",
       "      <td>...</td>\n",
       "      <td>...</td>\n",
       "      <td>...</td>\n",
       "    </tr>\n",
       "    <tr>\n",
       "      <th>4996</th>\n",
       "      <td>9.992</td>\n",
       "      <td>6.245255</td>\n",
       "      <td>6.245255</td>\n",
       "      <td>6.245255</td>\n",
       "      <td>6.245255</td>\n",
       "      <td>6.245255</td>\n",
       "      <td>6.244778</td>\n",
       "      <td>6.245255</td>\n",
       "      <td>6.245255</td>\n",
       "      <td>6.245255</td>\n",
       "      <td>6.245255</td>\n",
       "      <td>6.245255</td>\n",
       "      <td>6.245255</td>\n",
       "      <td>6.245255</td>\n",
       "    </tr>\n",
       "    <tr>\n",
       "      <th>4997</th>\n",
       "      <td>9.994</td>\n",
       "      <td>6.239012</td>\n",
       "      <td>6.239012</td>\n",
       "      <td>6.239012</td>\n",
       "      <td>6.239012</td>\n",
       "      <td>6.239012</td>\n",
       "      <td>6.238558</td>\n",
       "      <td>6.239012</td>\n",
       "      <td>6.239012</td>\n",
       "      <td>6.239012</td>\n",
       "      <td>6.239012</td>\n",
       "      <td>6.239012</td>\n",
       "      <td>6.239012</td>\n",
       "      <td>6.239012</td>\n",
       "    </tr>\n",
       "    <tr>\n",
       "      <th>4998</th>\n",
       "      <td>9.996</td>\n",
       "      <td>6.232371</td>\n",
       "      <td>6.232371</td>\n",
       "      <td>6.232371</td>\n",
       "      <td>6.232371</td>\n",
       "      <td>6.232371</td>\n",
       "      <td>6.231943</td>\n",
       "      <td>6.232371</td>\n",
       "      <td>6.232371</td>\n",
       "      <td>6.232371</td>\n",
       "      <td>6.232371</td>\n",
       "      <td>6.232371</td>\n",
       "      <td>6.232371</td>\n",
       "      <td>6.232371</td>\n",
       "    </tr>\n",
       "    <tr>\n",
       "      <th>4999</th>\n",
       "      <td>9.998</td>\n",
       "      <td>6.225354</td>\n",
       "      <td>6.225354</td>\n",
       "      <td>6.225354</td>\n",
       "      <td>6.225354</td>\n",
       "      <td>6.225354</td>\n",
       "      <td>6.224954</td>\n",
       "      <td>6.225354</td>\n",
       "      <td>6.225354</td>\n",
       "      <td>6.225354</td>\n",
       "      <td>6.225354</td>\n",
       "      <td>6.225354</td>\n",
       "      <td>6.225354</td>\n",
       "      <td>6.225354</td>\n",
       "    </tr>\n",
       "    <tr>\n",
       "      <th>5000</th>\n",
       "      <td>10.000</td>\n",
       "      <td>6.217989</td>\n",
       "      <td>6.217989</td>\n",
       "      <td>6.217989</td>\n",
       "      <td>6.217989</td>\n",
       "      <td>6.217989</td>\n",
       "      <td>6.217989</td>\n",
       "      <td>6.217989</td>\n",
       "      <td>6.217989</td>\n",
       "      <td>6.217989</td>\n",
       "      <td>6.217989</td>\n",
       "      <td>6.217989</td>\n",
       "      <td>6.217989</td>\n",
       "      <td>6.217989</td>\n",
       "    </tr>\n",
       "  </tbody>\n",
       "</table>\n",
       "<p>5001 rows × 14 columns</p>\n",
       "</div>"
      ],
      "text/plain": [
       "        time        cn       cn1       cn2       cn3       cn4       cn5  \\\n",
       "0      0.000  4.272987  4.272987  4.272987  4.272987  4.272987  4.272987   \n",
       "1      0.002  4.284079  4.284079  4.284079  4.284079  4.284079  4.284079   \n",
       "2      0.004  4.299946  4.299946  4.299946  4.299946  4.299946  4.299946   \n",
       "3      0.006  4.320321  4.320321  4.320321  4.320321  4.320321  4.320321   \n",
       "4      0.008  4.344739  4.344739  4.344739  4.344739  4.344739  4.344739   \n",
       "...      ...       ...       ...       ...       ...       ...       ...   \n",
       "4996   9.992  6.245255  6.245255  6.245255  6.245255  6.245255  6.244778   \n",
       "4997   9.994  6.239012  6.239012  6.239012  6.239012  6.239012  6.238558   \n",
       "4998   9.996  6.232371  6.232371  6.232371  6.232371  6.232371  6.231943   \n",
       "4999   9.998  6.225354  6.225354  6.225354  6.225354  6.225354  6.224954   \n",
       "5000  10.000  6.217989  6.217989  6.217989  6.217989  6.217989  6.217989   \n",
       "\n",
       "           cn6       cn7       cn8       cn9      cn10      cn11      cn12  \n",
       "0     4.272987  4.272987  4.272987  4.272987  4.272987  4.272987  4.272987  \n",
       "1     4.284079  4.284079  4.284079  4.284079  4.284079  4.284079  4.284079  \n",
       "2     4.299946  4.299946  4.299946  4.299946  4.299946  4.299946  4.299946  \n",
       "3     4.320321  4.320321  4.320321  4.320321  4.320321  4.320321  4.320321  \n",
       "4     4.344739  4.344739  4.344739  4.344739  4.344739  4.344739  4.344739  \n",
       "...        ...       ...       ...       ...       ...       ...       ...  \n",
       "4996  6.245255  6.245255  6.245255  6.245255  6.245255  6.245255  6.245255  \n",
       "4997  6.239012  6.239012  6.239012  6.239012  6.239012  6.239012  6.239012  \n",
       "4998  6.232371  6.232371  6.232371  6.232371  6.232371  6.232371  6.232371  \n",
       "4999  6.225354  6.225354  6.225354  6.225354  6.225354  6.225354  6.225354  \n",
       "5000  6.217989  6.217989  6.217989  6.217989  6.217989  6.217989  6.217989  \n",
       "\n",
       "[5001 rows x 14 columns]"
      ]
     },
     "execution_count": 48,
     "metadata": {},
     "output_type": "execute_result"
    }
   ],
   "source": [
    "test=plumed.read_as_pandas(\"TEST\")\n",
    "test"
   ]
  },
  {
   "cell_type": "code",
   "execution_count": 19,
   "id": "770198bb",
   "metadata": {},
   "outputs": [
    {
     "data": {
      "image/png": "[encoded data removed]",
      "text/plain": [
       "<Figure size 432x288 with 1 Axes>"
      ]
     },
     "metadata": {
      "needs_background": "light"
     },
     "output_type": "display_data"
    },
    {
     "data": {
      "image/png": "[encoded data removed]",
      "text/plain": [
       "<Figure size 432x288 with 1 Axes>"
      ]
     },
     "metadata": {
      "needs_background": "light"
     },
     "output_type": "display_data"
    }
   ],
   "source": [
    "for i in range(6,0,-1):\n",
    "    plt.plot(test[\"cn\"+str(i)]-test.cn,\"x\",label=str(i))\n",
    "plt.legend()\n",
    "plt.show()\n",
    "for i in range(12,6,-1):\n",
    "    plt.plot(test[\"cn\"+str(i)]-test.cn,\"x\",label=str(i))\n",
    "plt.legend()\n",
    "plt.show()"
   ]
  },
  {
   "cell_type": "markdown",
   "id": "c67367ab",
   "metadata": {},
   "source": [
    "We will use the settings corresponding to cn2:\n",
    "```\n",
    "cn2: COORDINATION GROUPA=NA GROUPB=WAT SWITCH={RATIONAL R_0=0.3 D_MAX=0.75} NLIST NL_CUTOFF=0.8 NL_STRIDE=10\n",
    "```\n",
    "Notice that cn3 fails in returning the correct value sometime, and all those with NL_CUTOFF=1.0 are slower"
   ]
  },
  {
   "cell_type": "code",
   "execution_count": 52,
   "id": "9dc38aa6",
   "metadata": {},
   "outputs": [
    {
     "data": {
      "text/plain": [
       "(3.4301432588504727e-06, 0.0)"
      ]
     },
     "execution_count": 52,
     "metadata": {},
     "output_type": "execute_result"
    }
   ],
   "source": [
    "np.std(test.cn3-test.cn), np.std(test.cn2-test.cn)"
   ]
  },
  {
   "cell_type": "code",
   "execution_count": 57,
   "id": "cd9d4e4f",
   "metadata": {},
   "outputs": [
    {
     "data": {
      "text/plain": [
       "(2.4155854084387413e-06, 0.0)"
      ]
     },
     "execution_count": 57,
     "metadata": {},
     "output_type": "execute_result"
    }
   ],
   "source": [
    "np.std(test.cn11-test.cn), np.std(test.cn10-test.cn)"
   ]
  },
  {
   "cell_type": "markdown",
   "id": "10948df7",
   "metadata": {},
   "source": [
    "## Exercise 1c\n",
    "\n",
    "We then try to optimize the number of cores."
   ]
  },
  {
   "cell_type": "code",
   "execution_count": 58,
   "id": "6ff9c2a0",
   "metadata": {},
   "outputs": [
    {
     "name": "stdout",
     "output_type": "stream",
     "text": [
      "               Core t (s)   Wall t (s)        (%)\n",
      "       Time:       64.213        5.351     1200.0\n",
      "                 (ns/day)    (hour/ns)\n",
      "Performance:      161.488        0.149\n",
      "Finished mdrun on rank 0 Mon May  3 11:33:38 2021\n",
      "\n",
      "PLUMED:                                               Cycles        Total      Average      Minimum      Maximum\n",
      "PLUMED:                                                    1     1.365028     1.365028     1.365028     1.365028\n",
      "PLUMED: 1 Prepare dependencies                          5001     0.390627     0.000078     0.000013     0.000662\n",
      "PLUMED: 2 Sharing data                                  5001     0.158603     0.000032     0.000028     0.000945\n",
      "PLUMED: 3 Waiting for data                              5001     0.028590     0.000006     0.000005     0.000020\n",
      "PLUMED: 4 Calculating (forward loop)                    5001     0.399323     0.000080     0.000058     0.000394\n",
      "PLUMED: 4A 0 @0                                         5001     0.007063     0.000001     0.000001     0.000014\n",
      "PLUMED: 4A 4 d                                          5001     0.058060     0.000012     0.000009     0.000073\n",
      "PLUMED: 4A 5 cn                                         5001     0.212893     0.000043     0.000023     0.000304\n",
      "PLUMED: 4A 6 @6                                           51     0.000075     0.000001     0.000001     0.000002\n",
      "PLUMED: 4A 7 @7                                         5001     0.066837     0.000013     0.000012     0.000055\n",
      "PLUMED: 5 Applying (backward loop)                      5001     0.208832     0.000042     0.000035     0.000174\n",
      "PLUMED: 5A 0 @7                                         5001     0.007996     0.000002     0.000001     0.000134\n",
      "PLUMED: 5A 1 @6                                           51     0.000043     0.000001     0.000001     0.000001\n",
      "PLUMED: 5A 2 cn                                         5001     0.051212     0.000010     0.000005     0.000079\n",
      "PLUMED: 5A 3 d                                          5001     0.013765     0.000003     0.000002     0.000017\n",
      "PLUMED: 5A 7 @0                                         5001     0.003906     0.000001     0.000001     0.000011\n",
      "PLUMED: 5B Update forces                                5001     0.091217     0.000018     0.000016     0.000057\n",
      "PLUMED: 6 Update                                        5001     0.037246     0.000007     0.000004     0.000372\n"
     ]
    }
   ],
   "source": [
    "with open(\"plumed-c1.dat\",\"w\") as f:\n",
    "    print(\"\"\"\n",
    "# vim:ft=plumed\n",
    "DEBUG DETAILED_TIMERS\n",
    "NA: GROUP ATOMS=1 \n",
    "CL: GROUP ATOMS=2 \n",
    "WAT: GROUP ATOMS=3-8544:3 \n",
    "d: DISTANCE ATOMS=NA,CL \n",
    "cn: COORDINATION GROUPA=NA GROUPB=WAT SWITCH={RATIONAL R_0=0.3 D_MAX=0.75} NLIST NL_CUTOFF=0.8 NL_STRIDE=10\n",
    "\n",
    "PRINT ARG=d,cn STRIDE=100 FILE=COLVAR\n",
    "METAD ARG=d,cn SIGMA=0.05,0.1 HEIGHT=1.0 PACE=100 BIASFACTOR=5 GRID_MIN=0,4 GRID_MAX=4,8\n",
    "    \"\"\",file=f)\n",
    "run_mpi(\"gmx_mpi mdrun -plumed plumed-c1.dat -nsteps 5000 -ntomp 12 -pin on\",1)\n",
    "parse_log()"
   ]
  },
  {
   "cell_type": "code",
   "execution_count": 59,
   "id": "edec42a0",
   "metadata": {},
   "outputs": [
    {
     "name": "stdout",
     "output_type": "stream",
     "text": [
      "               Core t (s)   Wall t (s)        (%)\n",
      "       Time:       85.823        7.152     1200.0\n",
      "                 (ns/day)    (hour/ns)\n",
      "Performance:      120.828        0.199\n",
      "Finished mdrun on rank 0 Mon May  3 11:33:47 2021\n",
      "\n",
      "PLUMED:                                               Cycles        Total      Average      Minimum      Maximum\n",
      "PLUMED:                                                    1     1.466897     1.466897     1.466897     1.466897\n",
      "PLUMED: 1 Prepare dependencies                          5001     0.418080     0.000084     0.000015     0.000567\n",
      "PLUMED: 2 Sharing data                                  5001     0.157553     0.000032     0.000011     0.000663\n",
      "PLUMED: 3 Waiting for data                              5001     0.086767     0.000017     0.000012     0.000206\n",
      "PLUMED: 4 Calculating (forward loop)                    5001     0.471380     0.000094     0.000068     0.001472\n",
      "PLUMED: 4A 0 @0                                         5001     0.006927     0.000001     0.000001     0.000015\n",
      "PLUMED: 4A 4 d                                          5001     0.064155     0.000013     0.000011     0.000059\n",
      "PLUMED: 4A 5 cn                                         5001     0.269437     0.000054     0.000030     0.001400\n",
      "PLUMED: 4A 6 @6                                           51     0.000073     0.000001     0.000001     0.000002\n",
      "PLUMED: 4A 7 @7                                         5001     0.069043     0.000014     0.000011     0.000047\n",
      "PLUMED: 5 Applying (backward loop)                      5001     0.151012     0.000030     0.000021     0.000222\n",
      "PLUMED: 5A 0 @7                                         5001     0.008438     0.000002     0.000001     0.000017\n",
      "PLUMED: 5A 1 @6                                           51     0.000046     0.000001     0.000001     0.000001\n",
      "PLUMED: 5A 2 cn                                         5001     0.055840     0.000011     0.000006     0.000132\n",
      "PLUMED: 5A 3 d                                          5001     0.013965     0.000003     0.000002     0.000053\n",
      "PLUMED: 5A 7 @0                                         5001     0.004960     0.000001     0.000001     0.000014\n",
      "PLUMED: 5B Update forces                                5001     0.022783     0.000005     0.000002     0.000063\n",
      "PLUMED: 6 Update                                        5001     0.036643     0.000007     0.000004     0.000368\n"
     ]
    }
   ],
   "source": [
    "run_mpi(\"gmx_mpi mdrun -plumed plumed-c1.dat -nsteps 5000 -ntomp 6 -pin on\",2)\n",
    "parse_log()"
   ]
  },
  {
   "cell_type": "code",
   "execution_count": 60,
   "id": "a7bcf76a",
   "metadata": {},
   "outputs": [
    {
     "name": "stdout",
     "output_type": "stream",
     "text": [
      "               Core t (s)   Wall t (s)        (%)\n",
      "       Time:      185.325        7.722     2399.9\n",
      "                 (ns/day)    (hour/ns)\n",
      "Performance:      111.908        0.214\n",
      "Finished mdrun on rank 0 Mon May  3 11:33:57 2021\n",
      "\n",
      "PLUMED:                                               Cycles        Total      Average      Minimum      Maximum\n",
      "PLUMED:                                                    1     2.356946     2.356946     2.356946     2.356946\n",
      "PLUMED: 1 Prepare dependencies                          5001     0.763327     0.000153     0.000026     0.001255\n",
      "PLUMED: 2 Sharing data                                  5001     0.223939     0.000045     0.000040     0.001713\n",
      "PLUMED: 3 Waiting for data                              5001     0.050733     0.000010     0.000009     0.000091\n",
      "PLUMED: 4 Calculating (forward loop)                    5001     0.699776     0.000140     0.000102     0.001356\n",
      "PLUMED: 4A 0 @0                                         5001     0.010766     0.000002     0.000002     0.000014\n",
      "PLUMED: 4A 4 d                                          5001     0.100762     0.000020     0.000017     0.000121\n",
      "PLUMED: 4A 5 cn                                         5001     0.367185     0.000073     0.000040     0.000407\n",
      "PLUMED: 4A 6 @6                                           51     0.000126     0.000002     0.000002     0.000014\n",
      "PLUMED: 4A 7 @7                                         5001     0.124649     0.000025     0.000020     0.001272\n",
      "PLUMED: 5 Applying (backward loop)                      5001     0.334667     0.000067     0.000054     0.000525\n",
      "PLUMED: 5A 0 @7                                         5001     0.012889     0.000003     0.000002     0.000039\n",
      "PLUMED: 5A 1 @6                                           51     0.000060     0.000001     0.000001     0.000001\n",
      "PLUMED: 5A 2 cn                                         5001     0.095138     0.000019     0.000010     0.000103\n",
      "PLUMED: 5A 3 d                                          5001     0.030619     0.000006     0.000005     0.000025\n",
      "PLUMED: 5A 7 @0                                         5001     0.005944     0.000001     0.000001     0.000014\n",
      "PLUMED: 5B Update forces                                5001     0.110526     0.000022     0.000019     0.000488\n",
      "PLUMED: 6 Update                                        5001     0.077999     0.000016     0.000008     0.003392\n"
     ]
    }
   ],
   "source": [
    "run_mpi(\"gmx_mpi mdrun -plumed plumed-c1.dat -nsteps 5000 -ntomp 24 -pin on\",1)\n",
    "parse_log()"
   ]
  },
  {
   "cell_type": "markdown",
   "id": "0444c235",
   "metadata": {},
   "source": [
    "On this machine it is convenient to use 1 MPI process and 12 threads."
   ]
  },
  {
   "cell_type": "markdown",
   "id": "8fd94783",
   "metadata": {},
   "source": [
    "## Exercise 1d\n",
    "\n",
    "Next we try different settings for metadynamics. We then monitor the number binding/unbinding events that we observe in a fixed simulation time.\n",
    "\n",
    "I first try to use wider hills"
   ]
  },
  {
   "cell_type": "code",
   "execution_count": 61,
   "id": "925edcd7",
   "metadata": {},
   "outputs": [],
   "source": [
    "with open(\"plumed-d1.dat\",\"w\") as f:\n",
    "    print(\"\"\"\n",
    "# vim:ft=plumed\n",
    "DEBUG DETAILED_TIMERS\n",
    "NA: GROUP ATOMS=1 \n",
    "CL: GROUP ATOMS=2 \n",
    "WAT: GROUP ATOMS=3-8544:3 \n",
    "d: DISTANCE ATOMS=NA,CL \n",
    "cn: COORDINATION GROUPA=NA GROUPB=WAT SWITCH={RATIONAL R_0=0.3 D_MAX=0.75} NLIST NL_CUTOFF=0.8 NL_STRIDE=10\n",
    "\n",
    "PRINT ARG=d,cn STRIDE=100 FILE=COLVAR\n",
    "METAD ARG=d,cn SIGMA=0.05,0.1 HEIGHT=1.0 PACE=100 BIASFACTOR=5 GRID_MIN=0,0 GRID_MAX=4,10\n",
    "    \"\"\",file=f)\n",
    "run_mpi(\"gmx_mpi mdrun -plumed plumed-d1.dat -nsteps 500000 -ntomp 12 -pin on\",1)\n",
    "\n",
    "! mv HILLS HILLS_1\n",
    "! mv traj_comp.xtc traj_comp1.xtc\n",
    "\n",
    "with open(\"plumed-d2.dat\",\"w\") as f:\n",
    "    print(\"\"\"\n",
    "# vim:ft=plumed\n",
    "DEBUG DETAILED_TIMERS\n",
    "NA: GROUP ATOMS=1 \n",
    "CL: GROUP ATOMS=2 \n",
    "WAT: GROUP ATOMS=3-8544:3 \n",
    "d: DISTANCE ATOMS=NA,CL \n",
    "cn: COORDINATION GROUPA=NA GROUPB=WAT SWITCH={RATIONAL R_0=0.3 D_MAX=0.75} NLIST NL_CUTOFF=0.8 NL_STRIDE=10\n",
    "\n",
    "PRINT ARG=d,cn STRIDE=100 FILE=COLVAR\n",
    "METAD ARG=d,cn SIGMA=0.1,0.2 HEIGHT=1.0 PACE=100 BIASFACTOR=5 GRID_MIN=0,0 GRID_MAX=4,10\n",
    "    \"\"\",file=f)\n",
    "run_mpi(\"gmx_mpi mdrun -plumed plumed-d2.dat -nsteps 500000 -ntomp 12 -pin on\",1)\n",
    "\n",
    "! mv HILLS HILLS_2\n",
    "! mv traj_comp.xtc traj_comp2.xtc\n"
   ]
  },
  {
   "cell_type": "code",
   "execution_count": 62,
   "id": "cb405017",
   "metadata": {},
   "outputs": [
    {
     "name": "stdout",
     "output_type": "stream",
     "text": [
      "PLUMED: PLUMED is starting\n",
      "PLUMED: Version: 2.7.0 (git: Unknown) compiled on Mar  8 2021 at 17:46:23\n",
      "PLUMED: Please cite these papers when using PLUMED [1][2]\n",
      "PLUMED: For further information see the PLUMED web page at http://www.plumed.org\n",
      "PLUMED: Root: /net/sbp/sbpstore1/bussi/miniconda3/envs/masterclass/lib/plumed\n",
      "PLUMED: For installed feature, see /net/sbp/sbpstore1/bussi/miniconda3/envs/masterclass/lib/plumed/src/config/config.txt\n",
      "PLUMED: Molecular dynamics engine: \n",
      "PLUMED: Precision of reals: 8\n",
      "PLUMED: Running over 1 node\n",
      "PLUMED: Number of threads: 1\n",
      "PLUMED: Cache line size: 512\n",
      "PLUMED: Number of atoms: 1\n",
      "PLUMED: File suffix: \n",
      "PLUMED: Timestep: 0.000000\n",
      "PLUMED: KbT has not been set by the MD engine\n",
      "PLUMED: It should be set by hand where needed\n",
      "PLUMED: Relevant bibliography:\n",
      "PLUMED:   [1] The PLUMED consortium, Nat. Methods 16, 670 (2019)\n",
      "PLUMED:   [2] Tribello, Bonomi, Branduardi, Camilloni, and Bussi, Comput. Phys. Commun. 185, 604 (2014)\n",
      "PLUMED: Please read and cite where appropriate!\n",
      "PLUMED: Finished setup\n",
      "PLUMED: Action FAKE\n",
      "PLUMED:   with label d\n",
      "PLUMED: Action FAKE\n",
      "PLUMED:   with label cn\n",
      "PLUMED: Action FUNCSUMHILLS\n",
      "PLUMED:   with label @2\n",
      "PLUMED:   with arguments d cn\n",
      "PLUMED:   Output format is %14.9f\n",
      "PLUMED:   hillsfile  : HILLS_1\n",
      "PLUMED:    \n",
      "PLUMED:   No boundaries defined: need to do a prescreening of hills \n",
      "PLUMED:   doing serialread \n",
      "PLUMED:   opening file HILLS_1\n",
      "PLUMED:   closing file HILLS_1\n",
      "PLUMED:   now total 5000 kernels \n",
      "PLUMED:   final chunk: now with 5000 kernels  \n",
      "PLUMED:   found boundaries from hillsfile: \n",
      "PLUMED:   variable d min: 0.0748235 max: 3.68988 nbin: 205\n",
      "PLUMED:   variable cn min: 3.04174 max: 7.51175 nbin: 127\n",
      "PLUMED:   done!\n",
      "PLUMED:    \n",
      "PLUMED:   projection 0 : d\n",
      "PLUMED:   beta is 0.4\n",
      "PLUMED:   Doing only one integration: no stride \n",
      "PLUMED:   output file for fes/bias  is :  fes1.dat\n",
      "PLUMED: \n",
      "PLUMED:   Now calculating...\n",
      "PLUMED: \n",
      "PLUMED:   reading hills: \n",
      "PLUMED:   doing serialread \n",
      "PLUMED:   opening file HILLS_1\n",
      "PLUMED:   closing file HILLS_1\n",
      "PLUMED:   now total 5000 kernels \n",
      "PLUMED:   final chunk: now with 5000 kernels  \n",
      "PLUMED: \n",
      "PLUMED:   Bias: Projecting on subgrid... \n",
      "PLUMED:   Bias: Writing subgrid on file fes1.dat \n",
      "PLUMED:                                               Cycles        Total      Average      Minimum      Maximum\n",
      "PLUMED: 0 Summing hills                                    1     0.871856     0.871856     0.871856     0.871856\n",
      "PLUMED:                                               Cycles        Total      Average      Minimum      Maximum\n",
      "PLUMED:                                                    1     0.000828     0.000828     0.000828     0.000828\n",
      "PLUMED: PLUMED is starting\n",
      "PLUMED: Version: 2.7.0 (git: Unknown) compiled on Mar  8 2021 at 17:46:23\n",
      "PLUMED: Please cite these papers when using PLUMED [1][2]\n",
      "PLUMED: For further information see the PLUMED web page at http://www.plumed.org\n",
      "PLUMED: Root: /net/sbp/sbpstore1/bussi/miniconda3/envs/masterclass/lib/plumed\n",
      "PLUMED: For installed feature, see /net/sbp/sbpstore1/bussi/miniconda3/envs/masterclass/lib/plumed/src/config/config.txt\n",
      "PLUMED: Molecular dynamics engine: \n",
      "PLUMED: Precision of reals: 8\n",
      "PLUMED: Running over 1 node\n",
      "PLUMED: Number of threads: 1\n",
      "PLUMED: Cache line size: 512\n",
      "PLUMED: Number of atoms: 1\n",
      "PLUMED: File suffix: \n",
      "PLUMED: Timestep: 0.000000\n",
      "PLUMED: KbT has not been set by the MD engine\n",
      "PLUMED: It should be set by hand where needed\n",
      "PLUMED: Relevant bibliography:\n",
      "PLUMED:   [1] The PLUMED consortium, Nat. Methods 16, 670 (2019)\n",
      "PLUMED:   [2] Tribello, Bonomi, Branduardi, Camilloni, and Bussi, Comput. Phys. Commun. 185, 604 (2014)\n",
      "PLUMED: Please read and cite where appropriate!\n",
      "PLUMED: Finished setup\n",
      "PLUMED: Action FAKE\n",
      "PLUMED:   with label d\n",
      "PLUMED: Action FAKE\n",
      "PLUMED:   with label cn\n",
      "PLUMED: Action FUNCSUMHILLS\n",
      "PLUMED:   with label @2\n",
      "PLUMED:   with arguments d cn\n",
      "PLUMED:   Output format is %14.9f\n",
      "PLUMED:   hillsfile  : HILLS_2\n",
      "PLUMED:    \n",
      "PLUMED:   No boundaries defined: need to do a prescreening of hills \n",
      "PLUMED:   doing serialread \n",
      "PLUMED:   opening file HILLS_2\n",
      "PLUMED:   closing file HILLS_2\n",
      "PLUMED:   now total 5000 kernels \n",
      "PLUMED:   final chunk: now with 5000 kernels  \n",
      "PLUMED:   found boundaries from hillsfile: \n",
      "PLUMED:   variable d min: -0.103309 max: 3.50265 nbin: 102\n",
      "PLUMED:   variable cn min: 2.44016 max: 8.23445 nbin: 82\n",
      "PLUMED:   done!\n",
      "PLUMED:    \n",
      "PLUMED:   projection 0 : d\n",
      "PLUMED:   beta is 0.4\n",
      "PLUMED:   Doing only one integration: no stride \n",
      "PLUMED:   output file for fes/bias  is :  fes2.dat\n",
      "PLUMED: \n",
      "PLUMED:   Now calculating...\n",
      "PLUMED: \n",
      "PLUMED:   reading hills: \n",
      "PLUMED:   doing serialread \n",
      "PLUMED:   opening file HILLS_2\n",
      "PLUMED:   closing file HILLS_2\n",
      "PLUMED:   now total 5000 kernels \n",
      "PLUMED:   final chunk: now with 5000 kernels  \n",
      "PLUMED: \n",
      "PLUMED:   Bias: Projecting on subgrid... \n",
      "PLUMED:   Bias: Writing subgrid on file fes2.dat \n",
      "PLUMED:                                               Cycles        Total      Average      Minimum      Maximum\n",
      "PLUMED: 0 Summing hills                                    1     0.869043     0.869043     0.869043     0.869043\n",
      "PLUMED:                                               Cycles        Total      Average      Minimum      Maximum\n",
      "PLUMED:                                                    1     0.000632     0.000632     0.000632     0.000632\n"
     ]
    }
   ],
   "source": [
    "!plumed sum_hills --hills HILLS_1 --outfile fes1.dat --idw d --kt 2.5\n",
    "!plumed sum_hills --hills HILLS_2 --outfile fes2.dat --idw d --kt 2.5"
   ]
  },
  {
   "cell_type": "code",
   "execution_count": 63,
   "id": "64e43d6f",
   "metadata": {},
   "outputs": [],
   "source": [
    "fes1=plumed.read_as_pandas(\"fes1.dat\")\n",
    "fes2=plumed.read_as_pandas(\"fes2.dat\")"
   ]
  },
  {
   "cell_type": "code",
   "execution_count": 64,
   "id": "9f7e7869",
   "metadata": {},
   "outputs": [
    {
     "data": {
      "text/plain": [
       "[<matplotlib.lines.Line2D at 0x7fede336c290>]"
      ]
     },
     "execution_count": 64,
     "metadata": {},
     "output_type": "execute_result"
    },
    {
     "data": {
      "image/png": "[encoded data removed]",
      "text/plain": [
       "<Figure size 432x288 with 1 Axes>"
      ]
     },
     "metadata": {
      "needs_background": "light"
     },
     "output_type": "display_data"
    }
   ],
   "source": [
    "plt.plot(fes1.d,fes1.projection)\n",
    "plt.plot(fes2.d,fes2.projection)"
   ]
  },
  {
   "cell_type": "code",
   "execution_count": 65,
   "id": "d08a20ec",
   "metadata": {},
   "outputs": [
    {
     "data": {
      "text/plain": [
       "[<matplotlib.lines.Line2D at 0x7fed5b3158d0>]"
      ]
     },
     "execution_count": 65,
     "metadata": {},
     "output_type": "execute_result"
    },
    {
     "data": {
      "image/png": "[encoded data removed]",
      "text/plain": [
       "<Figure size 432x288 with 1 Axes>"
      ]
     },
     "metadata": {
      "needs_background": "light"
     },
     "output_type": "display_data"
    }
   ],
   "source": [
    "h=plumed.read_as_pandas(\"HILLS_1\")\n",
    "plt.plot(h.d)\n",
    "h=plumed.read_as_pandas(\"HILLS_2\")\n",
    "plt.plot(h.d)"
   ]
  },
  {
   "cell_type": "markdown",
   "id": "427d8040",
   "metadata": {},
   "source": [
    "Looking at the number of events, it doesn't seem useful.\n",
    "\n",
    "I try to remove one variable to make the calculation 1D, and to restrict the domain by using walls."
   ]
  },
  {
   "cell_type": "code",
   "execution_count": 32,
   "id": "06fdd282",
   "metadata": {},
   "outputs": [],
   "source": [
    "with open(\"plumed-d3.dat\",\"w\") as f:\n",
    "    print(\"\"\"\n",
    "# vim:ft=plumed\n",
    "DEBUG DETAILED_TIMERS\n",
    "NA: GROUP ATOMS=1 \n",
    "CL: GROUP ATOMS=2 \n",
    "WAT: GROUP ATOMS=3-8544:3 \n",
    "d: DISTANCE ATOMS=NA,CL\n",
    "cn: COORDINATION GROUPA=NA GROUPB=WAT SWITCH={RATIONAL R_0=0.3 D_MAX=0.75} NLIST NL_CUTOFF=0.8 NL_STRIDE=10\n",
    "\n",
    "PRINT ARG=d,cn STRIDE=100 FILE=COLVAR\n",
    "METAD ARG=d SIGMA=0.05 HEIGHT=1.0 PACE=100 BIASFACTOR=5 GRID_MIN=0 GRID_MAX=4\n",
    "    \"\"\",file=f)\n",
    "run_mpi(\"gmx_mpi mdrun -plumed plumed-d3.dat -nsteps 500000 -ntomp 12 -pin on\",1)\n",
    "\n",
    "! mv HILLS HILLS_3\n",
    "! mv traj_comp.xtc traj_comp3.xtc\n",
    "\n",
    "with open(\"plumed-d4.dat\",\"w\") as f:\n",
    "    print(\"\"\"\n",
    "# vim:ft=plumed\n",
    "DEBUG DETAILED_TIMERS\n",
    "NA: GROUP ATOMS=1 \n",
    "CL: GROUP ATOMS=2 \n",
    "WAT: GROUP ATOMS=3-8544:3 \n",
    "d: DISTANCE ATOMS=NA,CL \n",
    "\n",
    "PRINT ARG=d,cn STRIDE=100 FILE=COLVAR\n",
    "UPPER_WALLS ARG=d AT=1.5 KAPPA=1000.0\n",
    "METAD ARG=d SIGMA=0.05 HEIGHT=1.0 PACE=100 BIASFACTOR=5 GRID_MIN=0 GRID_MAX=4\n",
    "    \"\"\",file=f)\n",
    "run_mpi(\"gmx_mpi mdrun -plumed plumed-d4.dat -nsteps 500000 -ntomp 12 -pin on\",1)\n",
    "\n",
    "! mv HILLS HILLS_4\n",
    "! mv traj_comp.xtc traj_comp4.xtc"
   ]
  },
  {
   "cell_type": "code",
   "execution_count": 33,
   "id": "63976a1c",
   "metadata": {},
   "outputs": [
    {
     "data": {
      "text/plain": [
       "[<matplotlib.lines.Line2D at 0x7fee0d81d590>]"
      ]
     },
     "execution_count": 33,
     "metadata": {},
     "output_type": "execute_result"
    },
    {
     "data": {
      "image/png": "[encoded data removed]",
      "text/plain": [
       "<Figure size 432x288 with 1 Axes>"
      ]
     },
     "metadata": {
      "needs_background": "light"
     },
     "output_type": "display_data"
    }
   ],
   "source": [
    "h=plumed.read_as_pandas(\"HILLS_3\")\n",
    "plt.plot(h.d)\n",
    "h=plumed.read_as_pandas(\"HILLS_4\")\n",
    "plt.plot(h.d)"
   ]
  },
  {
   "cell_type": "markdown",
   "id": "f10ef09a",
   "metadata": {},
   "source": [
    "It seems the coordination number was not really needed for this problem. I can also see that by restricting the domain I can observe more events."
   ]
  },
  {
   "cell_type": "code",
   "execution_count": 34,
   "id": "223519a9",
   "metadata": {},
   "outputs": [
    {
     "name": "stdout",
     "output_type": "stream",
     "text": [
      "PLUMED: PLUMED is starting\n",
      "PLUMED: Version: 2.7.0 (git: Unknown) compiled on Mar  8 2021 at 17:46:23\n",
      "PLUMED: Please cite these papers when using PLUMED [1][2]\n",
      "PLUMED: For further information see the PLUMED web page at http://www.plumed.org\n",
      "PLUMED: Root: /net/sbp/sbpstore1/bussi/miniconda3/envs/masterclass/lib/plumed\n",
      "PLUMED: For installed feature, see /net/sbp/sbpstore1/bussi/miniconda3/envs/masterclass/lib/plumed/src/config/config.txt\n",
      "PLUMED: Molecular dynamics engine: \n",
      "PLUMED: Precision of reals: 8\n",
      "PLUMED: Running over 1 node\n",
      "PLUMED: Number of threads: 1\n",
      "PLUMED: Cache line size: 512\n",
      "PLUMED: Number of atoms: 1\n",
      "PLUMED: File suffix: \n",
      "PLUMED: Timestep: 0.000000\n",
      "PLUMED: KbT has not been set by the MD engine\n",
      "PLUMED: It should be set by hand where needed\n",
      "PLUMED: Relevant bibliography:\n",
      "PLUMED:   [1] The PLUMED consortium, Nat. Methods 16, 670 (2019)\n",
      "PLUMED:   [2] Tribello, Bonomi, Branduardi, Camilloni, and Bussi, Comput. Phys. Commun. 185, 604 (2014)\n",
      "PLUMED: Please read and cite where appropriate!\n",
      "PLUMED: Finished setup\n",
      "PLUMED: Action FAKE\n",
      "PLUMED:   with label d\n",
      "PLUMED: Action FUNCSUMHILLS\n",
      "PLUMED:   with label @1\n",
      "PLUMED:   with arguments d\n",
      "PLUMED:   Output format is %14.9f\n",
      "PLUMED:   hillsfile  : HILLS_3\n",
      "PLUMED:    \n",
      "PLUMED:   No boundaries defined: need to do a prescreening of hills \n",
      "PLUMED:   doing serialread \n",
      "PLUMED:   opening file HILLS_3\n",
      "PLUMED:   closing file HILLS_3\n",
      "PLUMED:   now total 5000 kernels \n",
      "PLUMED:   final chunk: now with 5000 kernels  \n",
      "PLUMED:   found boundaries from hillsfile: \n",
      "PLUMED:   variable d min: 0.0765323 max: 3.63567 nbin: 202\n",
      "PLUMED:   done!\n",
      "PLUMED:    \n",
      "PLUMED:   Doing only one integration: no stride \n",
      "PLUMED:   output file for fes/bias  is :  fes3.dat\n",
      "PLUMED: \n",
      "PLUMED:   Now calculating...\n",
      "PLUMED: \n",
      "PLUMED:   reading hills: \n",
      "PLUMED:   doing serialread \n",
      "PLUMED:   opening file HILLS_3\n",
      "PLUMED:   closing file HILLS_3\n",
      "PLUMED:   now total 5000 kernels \n",
      "PLUMED:   final chunk: now with 5000 kernels  \n",
      "PLUMED: \n",
      "PLUMED:   Writing full grid on file fes3.dat \n",
      "PLUMED:                                               Cycles        Total      Average      Minimum      Maximum\n",
      "PLUMED: 0 Summing hills                                    1     0.230200     0.230200     0.230200     0.230200\n",
      "PLUMED:                                               Cycles        Total      Average      Minimum      Maximum\n",
      "PLUMED:                                                    1     0.000514     0.000514     0.000514     0.000514\n",
      "PLUMED: PLUMED is starting\n",
      "PLUMED: Version: 2.7.0 (git: Unknown) compiled on Mar  8 2021 at 17:46:23\n",
      "PLUMED: Please cite these papers when using PLUMED [1][2]\n",
      "PLUMED: For further information see the PLUMED web page at http://www.plumed.org\n",
      "PLUMED: Root: /net/sbp/sbpstore1/bussi/miniconda3/envs/masterclass/lib/plumed\n",
      "PLUMED: For installed feature, see /net/sbp/sbpstore1/bussi/miniconda3/envs/masterclass/lib/plumed/src/config/config.txt\n",
      "PLUMED: Molecular dynamics engine: \n",
      "PLUMED: Precision of reals: 8\n",
      "PLUMED: Running over 1 node\n",
      "PLUMED: Number of threads: 1\n",
      "PLUMED: Cache line size: 512\n",
      "PLUMED: Number of atoms: 1\n",
      "PLUMED: File suffix: \n",
      "PLUMED: Timestep: 0.000000\n",
      "PLUMED: KbT has not been set by the MD engine\n",
      "PLUMED: It should be set by hand where needed\n",
      "PLUMED: Relevant bibliography:\n",
      "PLUMED:   [1] The PLUMED consortium, Nat. Methods 16, 670 (2019)\n",
      "PLUMED:   [2] Tribello, Bonomi, Branduardi, Camilloni, and Bussi, Comput. Phys. Commun. 185, 604 (2014)\n",
      "PLUMED: Please read and cite where appropriate!\n",
      "PLUMED: Finished setup\n",
      "PLUMED: Action FAKE\n",
      "PLUMED:   with label d\n",
      "PLUMED: Action FUNCSUMHILLS\n",
      "PLUMED:   with label @1\n",
      "PLUMED:   with arguments d\n",
      "PLUMED:   Output format is %14.9f\n",
      "PLUMED:   hillsfile  : HILLS_4\n",
      "PLUMED:    \n",
      "PLUMED:   No boundaries defined: need to do a prescreening of hills \n",
      "PLUMED:   doing serialread \n",
      "PLUMED:   opening file HILLS_4\n",
      "PLUMED:   closing file HILLS_4\n",
      "PLUMED:   now total 5000 kernels \n",
      "PLUMED:   final chunk: now with 5000 kernels  \n",
      "PLUMED:   found boundaries from hillsfile: \n",
      "PLUMED:   variable d min: 0.0698629 max: 1.86819 nbin: 102\n",
      "PLUMED:   done!\n",
      "PLUMED:    \n",
      "PLUMED:   Doing only one integration: no stride \n",
      "PLUMED:   output file for fes/bias  is :  fes4.dat\n",
      "PLUMED: \n",
      "PLUMED:   Now calculating...\n",
      "PLUMED: \n",
      "PLUMED:   reading hills: \n",
      "PLUMED:   doing serialread \n",
      "PLUMED:   opening file HILLS_4\n",
      "PLUMED:   closing file HILLS_4\n",
      "PLUMED:   now total 5000 kernels \n",
      "PLUMED:   final chunk: now with 5000 kernels  \n",
      "PLUMED: \n",
      "PLUMED:   Writing full grid on file fes4.dat \n",
      "PLUMED:                                               Cycles        Total      Average      Minimum      Maximum\n",
      "PLUMED: 0 Summing hills                                    1     0.206213     0.206213     0.206213     0.206213\n",
      "PLUMED:                                               Cycles        Total      Average      Minimum      Maximum\n",
      "PLUMED:                                                    1     0.000620     0.000620     0.000620     0.000620\n"
     ]
    }
   ],
   "source": [
    "!plumed sum_hills --hills HILLS_3 --outfile fes3.dat\n",
    "!plumed sum_hills --hills HILLS_4 --outfile fes4.dat"
   ]
  },
  {
   "cell_type": "code",
   "execution_count": 35,
   "id": "ffe1bccc",
   "metadata": {
    "scrolled": true
   },
   "outputs": [
    {
     "data": {
      "text/plain": [
       "[<matplotlib.lines.Line2D at 0x7fee0d9275d0>]"
      ]
     },
     "execution_count": 35,
     "metadata": {},
     "output_type": "execute_result"
    },
    {
     "data": {
      "image/png": "[encoded data removed]",
      "text/plain": [
       "<Figure size 432x288 with 1 Axes>"
      ]
     },
     "metadata": {
      "needs_background": "light"
     },
     "output_type": "display_data"
    }
   ],
   "source": [
    "fes3=plumed.read_as_pandas(\"fes3.dat\")\n",
    "fes4=plumed.read_as_pandas(\"fes4.dat\")\n",
    "plt.plot(fes3.d,fes3[\"file.free\"])\n",
    "plt.plot(fes3.d,fes3[\"file.free\"]+2*2.5*np.log(fes3.d))\n",
    "plt.plot(fes4.d,fes4[\"file.free\"])\n",
    "plt.plot(fes4.d,fes4[\"file.free\"]+2*2.5*np.log(fes4.d))"
   ]
  },
  {
   "cell_type": "markdown",
   "id": "dbb2a20f",
   "metadata": {},
   "source": [
    "I notice that perhaps the bound minimum is narrower than expected, I thus try to decrease hills width. Notice that I am not explicitly computing the stddev of the variable here, probably that would have been wiser."
   ]
  },
  {
   "cell_type": "code",
   "execution_count": 36,
   "id": "f535ffb0",
   "metadata": {},
   "outputs": [],
   "source": [
    "with open(\"plumed-d5.dat\",\"w\") as f:\n",
    "    print(\"\"\"\n",
    "# vim:ft=plumed\n",
    "DEBUG DETAILED_TIMERS\n",
    "NA: GROUP ATOMS=1 \n",
    "CL: GROUP ATOMS=2 \n",
    "WAT: GROUP ATOMS=3-8544:3 \n",
    "d: DISTANCE ATOMS=NA,CL\n",
    "cn: COORDINATION GROUPA=NA GROUPB=WAT SWITCH={RATIONAL R_0=0.3 D_MAX=0.75} NLIST NL_CUTOFF=0.8 NL_STRIDE=10\n",
    "\n",
    "PRINT ARG=d,cn STRIDE=100 FILE=COLVAR\n",
    "UPPER_WALLS ARG=d AT=1.5 KAPPA=1000.0\n",
    "METAD ARG=d SIGMA=0.025 HEIGHT=1.0 PACE=100 BIASFACTOR=5 GRID_MIN=0 GRID_MAX=4\n",
    "    \"\"\",file=f)\n",
    "run_mpi(\"gmx_mpi mdrun -plumed plumed-d5.dat -nsteps 500000 -ntomp 12 -pin on\",1)\n",
    "\n",
    "! mv HILLS HILLS_5\n",
    "! mv traj_comp.xtc traj_comp5.xtc"
   ]
  },
  {
   "cell_type": "code",
   "execution_count": 37,
   "id": "e612efec",
   "metadata": {},
   "outputs": [
    {
     "data": {
      "text/plain": [
       "[<matplotlib.lines.Line2D at 0x7fede37d3750>]"
      ]
     },
     "execution_count": 37,
     "metadata": {},
     "output_type": "execute_result"
    },
    {
     "data": {
      "image/png": "[encoded data removed]",
      "text/plain": [
       "<Figure size 432x288 with 1 Axes>"
      ]
     },
     "metadata": {
      "needs_background": "light"
     },
     "output_type": "display_data"
    }
   ],
   "source": [
    "h=plumed.read_as_pandas(\"HILLS_5\")\n",
    "plt.plot(h.d)"
   ]
  },
  {
   "cell_type": "code",
   "execution_count": 38,
   "id": "ff0862d5",
   "metadata": {},
   "outputs": [
    {
     "name": "stdout",
     "output_type": "stream",
     "text": [
      "PLUMED: PLUMED is starting\n",
      "PLUMED: Version: 2.7.0 (git: Unknown) compiled on Mar  8 2021 at 17:46:23\n",
      "PLUMED: Please cite these papers when using PLUMED [1][2]\n",
      "PLUMED: For further information see the PLUMED web page at http://www.plumed.org\n",
      "PLUMED: Root: /net/sbp/sbpstore1/bussi/miniconda3/envs/masterclass/lib/plumed\n",
      "PLUMED: For installed feature, see /net/sbp/sbpstore1/bussi/miniconda3/envs/masterclass/lib/plumed/src/config/config.txt\n",
      "PLUMED: Molecular dynamics engine: \n",
      "PLUMED: Precision of reals: 8\n",
      "PLUMED: Running over 1 node\n",
      "PLUMED: Number of threads: 1\n",
      "PLUMED: Cache line size: 512\n",
      "PLUMED: Number of atoms: 1\n",
      "PLUMED: File suffix: \n",
      "PLUMED: Timestep: 0.000000\n",
      "PLUMED: KbT has not been set by the MD engine\n",
      "PLUMED: It should be set by hand where needed\n",
      "PLUMED: Relevant bibliography:\n",
      "PLUMED:   [1] The PLUMED consortium, Nat. Methods 16, 670 (2019)\n",
      "PLUMED:   [2] Tribello, Bonomi, Branduardi, Camilloni, and Bussi, Comput. Phys. Commun. 185, 604 (2014)\n",
      "PLUMED: Please read and cite where appropriate!\n",
      "PLUMED: Finished setup\n",
      "PLUMED: Action FAKE\n",
      "PLUMED:   with label d\n",
      "PLUMED: Action FUNCSUMHILLS\n",
      "PLUMED:   with label @1\n",
      "PLUMED:   with arguments d\n",
      "PLUMED:   Output format is %14.9f\n",
      "PLUMED:   hillsfile  : HILLS_5\n",
      "PLUMED:    \n",
      "PLUMED:   No boundaries defined: need to do a prescreening of hills \n",
      "PLUMED:   doing serialread \n",
      "PLUMED:   opening file HILLS_5\n",
      "PLUMED:   closing file HILLS_5\n",
      "PLUMED:   now total 5000 kernels \n",
      "PLUMED:   final chunk: now with 5000 kernels  \n",
      "PLUMED:   found boundaries from hillsfile: \n",
      "PLUMED:   variable d min: 0.156859 max: 1.77319 nbin: 183\n",
      "PLUMED:   done!\n",
      "PLUMED:    \n",
      "PLUMED:   Doing only one integration: no stride \n",
      "PLUMED:   output file for fes/bias  is :  fes5.dat\n",
      "PLUMED: \n",
      "PLUMED:   Now calculating...\n",
      "PLUMED: \n",
      "PLUMED:   reading hills: \n",
      "PLUMED:   doing serialread \n",
      "PLUMED:   opening file HILLS_5\n",
      "PLUMED:   closing file HILLS_5\n",
      "PLUMED:   now total 5000 kernels \n",
      "PLUMED:   final chunk: now with 5000 kernels  \n",
      "PLUMED: \n",
      "PLUMED:   Writing full grid on file fes5.dat \n",
      "PLUMED:                                               Cycles        Total      Average      Minimum      Maximum\n",
      "PLUMED: 0 Summing hills                                    1     0.209065     0.209065     0.209065     0.209065\n",
      "PLUMED:                                               Cycles        Total      Average      Minimum      Maximum\n",
      "PLUMED:                                                    1     0.000445     0.000445     0.000445     0.000445\n"
     ]
    }
   ],
   "source": [
    "!plumed sum_hills --hills HILLS_5 --outfile fes5.dat"
   ]
  },
  {
   "cell_type": "code",
   "execution_count": 39,
   "id": "b1460de1",
   "metadata": {},
   "outputs": [
    {
     "data": {
      "text/plain": [
       "[<matplotlib.lines.Line2D at 0x7fede37277d0>]"
      ]
     },
     "execution_count": 39,
     "metadata": {},
     "output_type": "execute_result"
    },
    {
     "data": {
      "image/png": "[encoded data removed]",
      "text/plain": [
       "<Figure size 432x288 with 1 Axes>"
      ]
     },
     "metadata": {
      "needs_background": "light"
     },
     "output_type": "display_data"
    }
   ],
   "source": [
    "fes3=plumed.read_as_pandas(\"fes3.dat\")\n",
    "fes4=plumed.read_as_pandas(\"fes4.dat\")\n",
    "fes5=plumed.read_as_pandas(\"fes5.dat\")\n",
    "plt.plot(fes3.d,fes3[\"file.free\"])\n",
    "plt.plot(fes3.d,fes3[\"file.free\"]+2*2.5*np.log(fes3.d))\n",
    "plt.plot(fes4.d,fes4[\"file.free\"])\n",
    "plt.plot(fes4.d,fes4[\"file.free\"]+2*2.5*np.log(fes4.d))\n",
    "plt.plot(fes5.d,fes5[\"file.free\"])\n",
    "plt.plot(fes5.d,fes5[\"file.free\"]+2*2.5*np.log(fes5.d))"
   ]
  },
  {
   "cell_type": "markdown",
   "id": "14b209c2",
   "metadata": {},
   "source": [
    "0.1 m = 1e8 nm\n",
    "\n",
    "1 L = 1e24 nm\n",
    "\n",
    "1 L / NA = 1e24 / 6.02214076e23 = 1.6605390671738467"
   ]
  },
  {
   "cell_type": "code",
   "execution_count": 40,
   "id": "3aca8ab3",
   "metadata": {},
   "outputs": [
    {
     "data": {
      "text/plain": [
       "-2.404061958790893"
      ]
     },
     "execution_count": 40,
     "metadata": {},
     "output_type": "execute_result"
    }
   ],
   "source": [
    "def deltaG(fes,dbound,dmin,dmax):\n",
    "    bound=np.sum(np.exp(-np.array(fes[\"file.free\"])[np.where(fes.d<dbound)]/2.5))\n",
    "    unbound=np.sum(np.exp(-np.array(fes[\"file.free\"])[np.where(np.logical_and(fes.d>dmin,fes.d<dmax))]/2.5))\n",
    "    Vunbound=4/3*np.pi*(dmax**3-dmin**3)\n",
    "    V0=1.66\n",
    "    unbound /= (Vunbound/V0)\n",
    "    return -2.5*np.log(bound/unbound)\n",
    "deltaG(fes5,0.4,1.0,1.4)"
   ]
  },
  {
   "cell_type": "markdown",
   "id": "f3b19602",
   "metadata": {},
   "source": [
    "It seems I have a reasonable setup. I will then run it for 10 ns."
   ]
  },
  {
   "cell_type": "code",
   "execution_count": 41,
   "id": "4aac20aa",
   "metadata": {},
   "outputs": [],
   "source": [
    "run_mpi(\"gmx_mpi mdrun -plumed plumed-d5.dat -nsteps 5000000 -ntomp 12 -pin on\",1)\n",
    "\n",
    "! mv HILLS HILLS_5L\n",
    "! mv traj_comp.xtc traj_comp5L.xtc"
   ]
  },
  {
   "cell_type": "code",
   "execution_count": 42,
   "id": "9f2667aa",
   "metadata": {},
   "outputs": [
    {
     "data": {
      "text/plain": [
       "[<matplotlib.lines.Line2D at 0x7fee0e0a3e90>]"
      ]
     },
     "execution_count": 42,
     "metadata": {},
     "output_type": "execute_result"
    },
    {
     "data": {
      "image/png": "[encoded data removed]",
      "text/plain": [
       "<Figure size 432x288 with 1 Axes>"
      ]
     },
     "metadata": {
      "needs_background": "light"
     },
     "output_type": "display_data"
    }
   ],
   "source": [
    "h=plumed.read_as_pandas(\"HILLS_5L\")\n",
    "plt.plot(h.d)"
   ]
  },
  {
   "cell_type": "code",
   "execution_count": 43,
   "id": "6d985368",
   "metadata": {},
   "outputs": [
    {
     "name": "stdout",
     "output_type": "stream",
     "text": [
      "PLUMED: PLUMED is starting\n",
      "PLUMED: Version: 2.7.0 (git: Unknown) compiled on Mar  8 2021 at 17:46:23\n",
      "PLUMED: Please cite these papers when using PLUMED [1][2]\n",
      "PLUMED: For further information see the PLUMED web page at http://www.plumed.org\n",
      "PLUMED: Root: /net/sbp/sbpstore1/bussi/miniconda3/envs/masterclass/lib/plumed\n",
      "PLUMED: For installed feature, see /net/sbp/sbpstore1/bussi/miniconda3/envs/masterclass/lib/plumed/src/config/config.txt\n",
      "PLUMED: Molecular dynamics engine: \n",
      "PLUMED: Precision of reals: 8\n",
      "PLUMED: Running over 1 node\n",
      "PLUMED: Number of threads: 1\n",
      "PLUMED: Cache line size: 512\n",
      "PLUMED: Number of atoms: 1\n",
      "PLUMED: File suffix: \n",
      "PLUMED: Timestep: 0.000000\n",
      "PLUMED: KbT has not been set by the MD engine\n",
      "PLUMED: It should be set by hand where needed\n",
      "PLUMED: Relevant bibliography:\n",
      "PLUMED:   [1] The PLUMED consortium, Nat. Methods 16, 670 (2019)\n",
      "PLUMED:   [2] Tribello, Bonomi, Branduardi, Camilloni, and Bussi, Comput. Phys. Commun. 185, 604 (2014)\n",
      "PLUMED: Please read and cite where appropriate!\n",
      "PLUMED: Finished setup\n",
      "PLUMED: Action FAKE\n",
      "PLUMED:   with label d\n",
      "PLUMED: Action FUNCSUMHILLS\n",
      "PLUMED:   with label @1\n",
      "PLUMED:   with arguments d\n",
      "PLUMED:   Output format is %14.9f\n",
      "PLUMED:   hillsfile  : HILLS_5L\n",
      "PLUMED:    \n",
      "PLUMED:   No boundaries defined: need to do a prescreening of hills \n",
      "PLUMED:   doing serialread \n",
      "PLUMED:   opening file HILLS_5L\n",
      "PLUMED:   closing file HILLS_5L\n",
      "PLUMED:   now total 50000 kernels \n",
      "PLUMED:   final chunk: now with 50000 kernels  \n",
      "PLUMED:   found boundaries from hillsfile: \n",
      "PLUMED:   variable d min: 0.152398 max: 1.82904 nbin: 190\n",
      "PLUMED:   done!\n",
      "PLUMED:    \n",
      "PLUMED:   Doing only one integration: no stride \n",
      "PLUMED:   output file for fes/bias  is :  fes5l.dat\n",
      "PLUMED: \n",
      "PLUMED:   Now calculating...\n",
      "PLUMED: \n",
      "PLUMED:   reading hills: \n",
      "PLUMED:   doing serialread \n",
      "PLUMED:   opening file HILLS_5L\n",
      "PLUMED:   closing file HILLS_5L\n",
      "PLUMED:   now total 50000 kernels \n",
      "PLUMED:   final chunk: now with 50000 kernels  \n",
      "PLUMED: \n",
      "PLUMED:   Writing full grid on file fes5l.dat \n",
      "PLUMED:                                               Cycles        Total      Average      Minimum      Maximum\n",
      "PLUMED: 0 Summing hills                                    1     1.815202     1.815202     1.815202     1.815202\n",
      "PLUMED:                                               Cycles        Total      Average      Minimum      Maximum\n",
      "PLUMED:                                                    1     0.000578     0.000578     0.000578     0.000578\n"
     ]
    }
   ],
   "source": [
    "!plumed sum_hills --hills HILLS_5L --outfile fes5l.dat"
   ]
  },
  {
   "cell_type": "code",
   "execution_count": 66,
   "id": "bbb28a9b",
   "metadata": {},
   "outputs": [],
   "source": [
    "fes5l=plumed.read_as_pandas(\"fes5l.dat\")"
   ]
  },
  {
   "cell_type": "code",
   "execution_count": 67,
   "id": "ff304bb4",
   "metadata": {},
   "outputs": [
    {
     "data": {
      "text/plain": [
       "[<matplotlib.lines.Line2D at 0x7fede327a790>]"
      ]
     },
     "execution_count": 67,
     "metadata": {},
     "output_type": "execute_result"
    },
    {
     "data": {
      "image/png": "[encoded data removed]",
      "text/plain": [
       "<Figure size 432x288 with 1 Axes>"
      ]
     },
     "metadata": {
      "needs_background": "light"
     },
     "output_type": "display_data"
    }
   ],
   "source": [
    "plt.plot(fes5l.d,fes5l[\"file.free\"])\n",
    "plt.plot(fes5l.d,fes5l[\"file.free\"]+2*2.5*np.log(fes5l.d))"
   ]
  },
  {
   "cell_type": "code",
   "execution_count": 68,
   "id": "5e3059b2",
   "metadata": {},
   "outputs": [
    {
     "data": {
      "text/plain": [
       "[<matplotlib.lines.Line2D at 0x7fede31f4910>]"
      ]
     },
     "execution_count": 68,
     "metadata": {},
     "output_type": "execute_result"
    },
    {
     "data": {
      "image/png": "[encoded data removed]",
      "text/plain": [
       "<Figure size 432x288 with 1 Axes>"
      ]
     },
     "metadata": {
      "needs_background": "light"
     },
     "output_type": "display_data"
    }
   ],
   "source": [
    "dg=[]\n",
    "for dmin in np.linspace(0.5,1.2):\n",
    "    dg.append(deltaG(fes5l,0.4,dmin,1.4))\n",
    "plt.plot(dg)"
   ]
  },
  {
   "cell_type": "markdown",
   "id": "0aabf37e",
   "metadata": {},
   "source": [
    "Now I try to compute the statistical error with bootstrap. In order to avoid any issues with the tails of the Gaussian, I recompute the weights on the sampled frames rather than relying on sum_hills."
   ]
  },
  {
   "cell_type": "code",
   "execution_count": 194,
   "id": "072dd374",
   "metadata": {},
   "outputs": [
    {
     "data": {
      "text/plain": [
       "CompletedProcess(args='\\nmodule load intel/2021.1 gcc openmpi3 cuda\\nexport PLUMED_KERNEL=/scratch/bussi/masterclass-21-7/install/lib/libplumedKernel.so\\nexport LD_LIBRARY_PATH=/scratch/bussi/masterclass-21-7/install/lib:$LD_LIBRARY_PATH\\nexport PATH=/scratch/bussi/masterclass-21-7/install/bin:$PATH\\nmpiexec -np 1 env PLUMED_NUM_THREADS=12 plumed driver --plumed plumed-d5-rew.dat --noatoms\\n', returncode=0)"
      ]
     },
     "execution_count": 194,
     "metadata": {},
     "output_type": "execute_result"
    }
   ],
   "source": [
    "with open(\"plumed-d5-rew.dat\",\"w\") as f:\n",
    "    print(\"\"\"\n",
    "# vim:ft=plumed\n",
    "d: READ FILE=HILLS_5L VALUES=d IGNORE_FORCES IGNORE_TIME\n",
    "walls: UPPER_WALLS ARG=d AT=1.5 KAPPA=1000.0\n",
    "metad: METAD ARG=d SIGMA=0.025 HEIGHT=0.0 PACE=1000000 BIASFACTOR=5 GRID_MIN=0 GRID_MAX=4 RESTART=YES TEMP=300 FILE=HILLS_5L\n",
    "PRINT FILE=5rew ARG=d,*.bias\n",
    "    \"\"\",file=f)\n",
    "run_mpi(\"env PLUMED_NUM_THREADS=12 plumed driver --plumed plumed-d5-rew.dat --noatoms\",1)"
   ]
  },
  {
   "cell_type": "code",
   "execution_count": 195,
   "id": "c9aed9b6",
   "metadata": {},
   "outputs": [
    {
     "data": {
      "text/html": [
       "<div>\n",
       "<style scoped>\n",
       "    .dataframe tbody tr th:only-of-type {\n",
       "        vertical-align: middle;\n",
       "    }\n",
       "\n",
       "    .dataframe tbody tr th {\n",
       "        vertical-align: top;\n",
       "    }\n",
       "\n",
       "    .dataframe thead th {\n",
       "        text-align: right;\n",
       "    }\n",
       "</style>\n",
       "<table border=\"1\" class=\"dataframe\">\n",
       "  <thead>\n",
       "    <tr style=\"text-align: right;\">\n",
       "      <th></th>\n",
       "      <th>time</th>\n",
       "      <th>d</th>\n",
       "      <th>walls.bias</th>\n",
       "      <th>metad.bias</th>\n",
       "    </tr>\n",
       "  </thead>\n",
       "  <tbody>\n",
       "    <tr>\n",
       "      <th>0</th>\n",
       "      <td>0.0</td>\n",
       "      <td>1.358092</td>\n",
       "      <td>0.0</td>\n",
       "      <td>56.267298</td>\n",
       "    </tr>\n",
       "    <tr>\n",
       "      <th>1</th>\n",
       "      <td>1.0</td>\n",
       "      <td>1.170820</td>\n",
       "      <td>0.0</td>\n",
       "      <td>55.257055</td>\n",
       "    </tr>\n",
       "    <tr>\n",
       "      <th>2</th>\n",
       "      <td>2.0</td>\n",
       "      <td>1.194342</td>\n",
       "      <td>0.0</td>\n",
       "      <td>55.287387</td>\n",
       "    </tr>\n",
       "    <tr>\n",
       "      <th>3</th>\n",
       "      <td>3.0</td>\n",
       "      <td>1.246570</td>\n",
       "      <td>0.0</td>\n",
       "      <td>55.761400</td>\n",
       "    </tr>\n",
       "    <tr>\n",
       "      <th>4</th>\n",
       "      <td>4.0</td>\n",
       "      <td>1.199585</td>\n",
       "      <td>0.0</td>\n",
       "      <td>55.328445</td>\n",
       "    </tr>\n",
       "    <tr>\n",
       "      <th>...</th>\n",
       "      <td>...</td>\n",
       "      <td>...</td>\n",
       "      <td>...</td>\n",
       "      <td>...</td>\n",
       "    </tr>\n",
       "    <tr>\n",
       "      <th>49995</th>\n",
       "      <td>49995.0</td>\n",
       "      <td>1.011854</td>\n",
       "      <td>0.0</td>\n",
       "      <td>54.536266</td>\n",
       "    </tr>\n",
       "    <tr>\n",
       "      <th>49996</th>\n",
       "      <td>49996.0</td>\n",
       "      <td>0.983508</td>\n",
       "      <td>0.0</td>\n",
       "      <td>54.556476</td>\n",
       "    </tr>\n",
       "    <tr>\n",
       "      <th>49997</th>\n",
       "      <td>49997.0</td>\n",
       "      <td>0.874258</td>\n",
       "      <td>0.0</td>\n",
       "      <td>53.886100</td>\n",
       "    </tr>\n",
       "    <tr>\n",
       "      <th>49998</th>\n",
       "      <td>49998.0</td>\n",
       "      <td>0.949246</td>\n",
       "      <td>0.0</td>\n",
       "      <td>54.457901</td>\n",
       "    </tr>\n",
       "    <tr>\n",
       "      <th>49999</th>\n",
       "      <td>49999.0</td>\n",
       "      <td>1.001514</td>\n",
       "      <td>0.0</td>\n",
       "      <td>54.555736</td>\n",
       "    </tr>\n",
       "  </tbody>\n",
       "</table>\n",
       "<p>50000 rows × 4 columns</p>\n",
       "</div>"
      ],
      "text/plain": [
       "          time         d  walls.bias  metad.bias\n",
       "0          0.0  1.358092         0.0   56.267298\n",
       "1          1.0  1.170820         0.0   55.257055\n",
       "2          2.0  1.194342         0.0   55.287387\n",
       "3          3.0  1.246570         0.0   55.761400\n",
       "4          4.0  1.199585         0.0   55.328445\n",
       "...        ...       ...         ...         ...\n",
       "49995  49995.0  1.011854         0.0   54.536266\n",
       "49996  49996.0  0.983508         0.0   54.556476\n",
       "49997  49997.0  0.874258         0.0   53.886100\n",
       "49998  49998.0  0.949246         0.0   54.457901\n",
       "49999  49999.0  1.001514         0.0   54.555736\n",
       "\n",
       "[50000 rows x 4 columns]"
      ]
     },
     "execution_count": 195,
     "metadata": {},
     "output_type": "execute_result"
    }
   ],
   "source": [
    "rew=plumed.read_as_pandas(\"5rew\")\n",
    "rew"
   ]
  },
  {
   "cell_type": "code",
   "execution_count": 196,
   "id": "e82dcb62",
   "metadata": {},
   "outputs": [],
   "source": [
    "d=np.array(rew.d)\n",
    "w=np.array(np.exp(rew[\"metad.bias\"]/2.5))"
   ]
  },
  {
   "cell_type": "code",
   "execution_count": 197,
   "id": "cf84de8d",
   "metadata": {},
   "outputs": [
    {
     "data": {
      "text/plain": [
       "-0.1520605743636633"
      ]
     },
     "execution_count": 197,
     "metadata": {},
     "output_type": "execute_result"
    }
   ],
   "source": [
    "def deltaG(d,w,dbound,dmin,dmax):\n",
    "    bound=np.sum((d<dbound)*w)\n",
    "    unbound=np.sum(np.logical_and(d>dmin,d<dmax)*w)\n",
    "    Vunbound=4/3*np.pi*(dmax**3-dmin**3)\n",
    "    V0=1.66\n",
    "    unbound /= (Vunbound/V0)\n",
    "    return -2.5*np.log(bound/unbound)\n",
    "deltaG(d,w,0.4,1.0,1.4)"
   ]
  },
  {
   "cell_type": "code",
   "execution_count": 198,
   "id": "7a23d233",
   "metadata": {},
   "outputs": [],
   "source": [
    "# block bootstrap with 10 blocks\n",
    "dG=[]\n",
    "NB=10\n",
    "for i in range(1000):\n",
    "    c=np.random.choice(NB,NB)\n",
    "    dd=d.reshape((NB,-1))[c].flatten()\n",
    "    ww=w.reshape((NB,-1))[c].flatten()\n",
    "    dG.append(deltaG(dd,ww,0.4,1.0,1.4))"
   ]
  },
  {
   "cell_type": "code",
   "execution_count": 199,
   "id": "fae82271",
   "metadata": {},
   "outputs": [
    {
     "data": {
      "text/plain": [
       "(-0.1308196279234411, 0.30001299263974845)"
      ]
     },
     "execution_count": 199,
     "metadata": {},
     "output_type": "execute_result"
    }
   ],
   "source": [
    "np.average(dG),np.std(dG)"
   ]
  },
  {
   "cell_type": "markdown",
   "id": "d0c79a1c",
   "metadata": {},
   "source": [
    "The standard binding free energy is very close to zero, within its error. Notice that a value of zero has no particular meaning, since it arbitrarily depends on the definition of a molar volume. Also notice that computing the affinity using the actual values (rather than sum_hills) is more reliable, since it allows to detect if the ions are before or after the first energy barrier without any effect from the Gaussian tails."
   ]
  },
  {
   "cell_type": "code",
   "execution_count": null,
   "id": "0e07d2b8",
   "metadata": {},
   "outputs": [],
   "source": []
  }
 ],
 "metadata": {
  "hide_input": false,
  "kernelspec": {
   "display_name": "Python 3",
   "language": "python",
   "name": "python3"
  },
  "language_info": {
   "codemirror_mode": {
    "name": "ipython",
    "version": 3
   },
   "file_extension": ".py",
   "mimetype": "text/x-python",
   "name": "python",
   "nbconvert_exporter": "python",
   "pygments_lexer": "ipython3",
   "version": "3.7.10"
  },
  "toc": {
   "base_numbering": 1,
   "nav_menu": {},
   "number_sections": true,
   "sideBar": true,
   "skip_h1_title": false,
   "title_cell": "Table of Contents",
   "title_sidebar": "Contents",
   "toc_cell": false,
   "toc_position": {},
   "toc_section_display": true,
   "toc_window_display": false
  },
  "varInspector": {
   "cols": {
    "lenName": 16,
    "lenType": 16,
    "lenVar": 40
   },
   "kernels_config": {
    "python": {
     "delete_cmd_postfix": "",
     "delete_cmd_prefix": "del ",
     "library": "var_list.py",
     "varRefreshCmd": "print(var_dic_list())"
    },
    "r": {
     "delete_cmd_postfix": ") ",
     "delete_cmd_prefix": "rm(",
     "library": "var_list.r",
     "varRefreshCmd": "cat(var_dic_list()) "
    }
   },
   "types_to_exclude": [
    "module",
    "function",
    "builtin_function_or_method",
    "instance",
    "_Feature"
   ],
   "window_display": false
  }
 },
 "nbformat": 4,
 "nbformat_minor": 5
}
